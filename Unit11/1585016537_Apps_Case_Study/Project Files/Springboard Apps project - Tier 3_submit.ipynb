{
 "cells": [
  {
   "cell_type": "markdown",
   "metadata": {
    "colab_type": "text",
    "id": "i2RUFW7TFcuh"
   },
   "source": [
    "# Springboard Apps project - Tier 3 - Complete\n",
    "\n",
    "Welcome to the Apps project! To give you a taste of your future career, we're going to walk through exactly the kind of notebook that you'd write as a data scientist. In the process, we'll be sure to signpost the general framework for our investigation - the Data Science Pipeline - as well as give reasons for why we're doing what we're doing. We're also going to apply some of the skills and knowledge you've built up in the previous unit when reading Professor Spiegelhalter's *The Art of Statistics* (hereinafter *AoS*). \n",
    "\n",
    "So let's get cracking!\n",
    "\n",
    "**Brief**\n",
    "\n",
    "Did Apple Store apps receive better reviews than Google Play apps?\n",
    "\n",
    "## Stages of the project\n",
    "\n",
    "1. Sourcing and loading \n",
    "    * Load the two datasets\n",
    "    * Pick the columns that we are going to work with \n",
    "    * Subsetting the data on this basis \n",
    " \n",
    " \n",
    "2. Cleaning, transforming and visualizing\n",
    "    * Check the data types and fix them\n",
    "    * Add a `platform` column to both the `Apple` and the `Google` dataframes\n",
    "    * Changing the column names to prepare for a join \n",
    "    * Join the two data sets\n",
    "    * Eliminate the `NaN` values\n",
    "    * Filter only those apps that have been reviewed at least once\n",
    "    * Summarize the data visually and analytically (by the column `platform`)  \n",
    "  \n",
    "  \n",
    "3. Modelling \n",
    "    * Hypothesis formulation\n",
    "    * Getting the distribution of the data\n",
    "    * Permutation test \n",
    "\n",
    "\n",
    "4. Evaluating and concluding \n",
    "    * What is our conclusion?\n",
    "    * What is our decision?\n",
    "    * Other models we could have used. \n",
    "    "
   ]
  },
  {
   "cell_type": "markdown",
   "metadata": {
    "colab_type": "text",
    "id": "QLUAXtl1Fcuk"
   },
   "source": [
    "## Importing the libraries\n",
    "\n",
    "In this case we are going to import pandas, numpy, scipy, random and matplotlib.pyplot"
   ]
  },
  {
   "cell_type": "code",
   "execution_count": 1,
   "metadata": {
    "colab": {},
    "colab_type": "code",
    "id": "XeXJOlGiFcum"
   },
   "outputs": [],
   "source": [
    "import pandas as pd\n",
    "import numpy as np\n",
    "import matplotlib.pyplot as plt\n",
    "# scipi is a library for statistical tests and visualizations \n",
    "from scipy import stats\n",
    "# random enables us to generate random numbers\n",
    "import random"
   ]
  },
  {
   "cell_type": "markdown",
   "metadata": {
    "colab_type": "text",
    "id": "zVD7NlPAFcup"
   },
   "source": [
    "## Stage 1 -  Sourcing and loading data"
   ]
  },
  {
   "cell_type": "markdown",
   "metadata": {
    "colab_type": "text",
    "id": "KU8bdbImFcuq"
   },
   "source": [
    "### 1a. Source and load the data\n",
    "Let's download the data from Kaggle. Kaggle is a fantastic resource: a kind of social medium for data scientists, it boasts projects, datasets and news on the freshest libraries and technologies all in one place. The data from the Apple Store can be found [here](https://www.kaggle.com/ramamet4/app-store-apple-data-set-10k-apps) and the data from Google Store can be found [here](https://www.kaggle.com/lava18/google-play-store-apps).\n",
    "Download the datasets and save them in your working directory."
   ]
  },
  {
   "cell_type": "code",
   "execution_count": 2,
   "metadata": {
    "colab": {},
    "colab_type": "code",
    "id": "laM1PB76Fcur"
   },
   "outputs": [
    {
     "data": {
      "text/html": [
       "<div>\n",
       "<style scoped>\n",
       "    .dataframe tbody tr th:only-of-type {\n",
       "        vertical-align: middle;\n",
       "    }\n",
       "\n",
       "    .dataframe tbody tr th {\n",
       "        vertical-align: top;\n",
       "    }\n",
       "\n",
       "    .dataframe thead th {\n",
       "        text-align: right;\n",
       "    }\n",
       "</style>\n",
       "<table border=\"1\" class=\"dataframe\">\n",
       "  <thead>\n",
       "    <tr style=\"text-align: right;\">\n",
       "      <th></th>\n",
       "      <th>App</th>\n",
       "      <th>Category</th>\n",
       "      <th>Rating</th>\n",
       "      <th>Reviews</th>\n",
       "      <th>Size</th>\n",
       "      <th>Installs</th>\n",
       "      <th>Type</th>\n",
       "      <th>Price</th>\n",
       "      <th>Content Rating</th>\n",
       "      <th>Genres</th>\n",
       "      <th>Last Updated</th>\n",
       "      <th>Current Ver</th>\n",
       "      <th>Android Ver</th>\n",
       "    </tr>\n",
       "  </thead>\n",
       "  <tbody>\n",
       "    <tr>\n",
       "      <th>0</th>\n",
       "      <td>Photo Editor &amp; Candy Camera &amp; Grid &amp; ScrapBook</td>\n",
       "      <td>ART_AND_DESIGN</td>\n",
       "      <td>4.1</td>\n",
       "      <td>159</td>\n",
       "      <td>19M</td>\n",
       "      <td>10,000+</td>\n",
       "      <td>Free</td>\n",
       "      <td>0</td>\n",
       "      <td>Everyone</td>\n",
       "      <td>Art &amp; Design</td>\n",
       "      <td>January 7, 2018</td>\n",
       "      <td>1.0.0</td>\n",
       "      <td>4.0.3 and up</td>\n",
       "    </tr>\n",
       "    <tr>\n",
       "      <th>1</th>\n",
       "      <td>Coloring book moana</td>\n",
       "      <td>ART_AND_DESIGN</td>\n",
       "      <td>3.9</td>\n",
       "      <td>967</td>\n",
       "      <td>14M</td>\n",
       "      <td>500,000+</td>\n",
       "      <td>Free</td>\n",
       "      <td>0</td>\n",
       "      <td>Everyone</td>\n",
       "      <td>Art &amp; Design;Pretend Play</td>\n",
       "      <td>January 15, 2018</td>\n",
       "      <td>2.0.0</td>\n",
       "      <td>4.0.3 and up</td>\n",
       "    </tr>\n",
       "    <tr>\n",
       "      <th>2</th>\n",
       "      <td>U Launcher Lite – FREE Live Cool Themes, Hide ...</td>\n",
       "      <td>ART_AND_DESIGN</td>\n",
       "      <td>4.7</td>\n",
       "      <td>87510</td>\n",
       "      <td>8.7M</td>\n",
       "      <td>5,000,000+</td>\n",
       "      <td>Free</td>\n",
       "      <td>0</td>\n",
       "      <td>Everyone</td>\n",
       "      <td>Art &amp; Design</td>\n",
       "      <td>August 1, 2018</td>\n",
       "      <td>1.2.4</td>\n",
       "      <td>4.0.3 and up</td>\n",
       "    </tr>\n",
       "  </tbody>\n",
       "</table>\n",
       "</div>"
      ],
      "text/plain": [
       "                                                 App        Category  Rating  \\\n",
       "0     Photo Editor & Candy Camera & Grid & ScrapBook  ART_AND_DESIGN     4.1   \n",
       "1                                Coloring book moana  ART_AND_DESIGN     3.9   \n",
       "2  U Launcher Lite – FREE Live Cool Themes, Hide ...  ART_AND_DESIGN     4.7   \n",
       "\n",
       "  Reviews  Size    Installs  Type Price Content Rating  \\\n",
       "0     159   19M     10,000+  Free     0       Everyone   \n",
       "1     967   14M    500,000+  Free     0       Everyone   \n",
       "2   87510  8.7M  5,000,000+  Free     0       Everyone   \n",
       "\n",
       "                      Genres      Last Updated Current Ver   Android Ver  \n",
       "0               Art & Design   January 7, 2018       1.0.0  4.0.3 and up  \n",
       "1  Art & Design;Pretend Play  January 15, 2018       2.0.0  4.0.3 and up  \n",
       "2               Art & Design    August 1, 2018       1.2.4  4.0.3 and up  "
      ]
     },
     "execution_count": 2,
     "metadata": {},
     "output_type": "execute_result"
    }
   ],
   "source": [
    "# Now that the files are saved, we want to load them into Python using read_csv and pandas.\n",
    "\n",
    "# Create a variable called google, and store in it the path of the csv file that contains your google dataset. \n",
    "# If your dataset is in the same folder as this notebook, the path will simply be the name of the file. \n",
    "google='googleplaystore.csv'\n",
    "\n",
    "# Read the csv file into a data frame called Google using the read_csv() pandas method.\n",
    "Google=pd.read_csv(r'googleplaystore.csv')\n",
    "\n",
    "# Using the head() pandas method, observe the first three entries.\n",
    "\n",
    "Google.head(3)"
   ]
  },
  {
   "cell_type": "code",
   "execution_count": 3,
   "metadata": {
    "colab": {},
    "colab_type": "code",
    "id": "3AW8EA1wFcuu"
   },
   "outputs": [
    {
     "data": {
      "text/html": [
       "<div>\n",
       "<style scoped>\n",
       "    .dataframe tbody tr th:only-of-type {\n",
       "        vertical-align: middle;\n",
       "    }\n",
       "\n",
       "    .dataframe tbody tr th {\n",
       "        vertical-align: top;\n",
       "    }\n",
       "\n",
       "    .dataframe thead th {\n",
       "        text-align: right;\n",
       "    }\n",
       "</style>\n",
       "<table border=\"1\" class=\"dataframe\">\n",
       "  <thead>\n",
       "    <tr style=\"text-align: right;\">\n",
       "      <th></th>\n",
       "      <th>Unnamed: 0</th>\n",
       "      <th>id</th>\n",
       "      <th>track_name</th>\n",
       "      <th>size_bytes</th>\n",
       "      <th>currency</th>\n",
       "      <th>price</th>\n",
       "      <th>rating_count_tot</th>\n",
       "      <th>rating_count_ver</th>\n",
       "      <th>user_rating</th>\n",
       "      <th>user_rating_ver</th>\n",
       "      <th>ver</th>\n",
       "      <th>cont_rating</th>\n",
       "      <th>prime_genre</th>\n",
       "      <th>sup_devices.num</th>\n",
       "      <th>ipadSc_urls.num</th>\n",
       "      <th>lang.num</th>\n",
       "      <th>vpp_lic</th>\n",
       "    </tr>\n",
       "  </thead>\n",
       "  <tbody>\n",
       "    <tr>\n",
       "      <th>0</th>\n",
       "      <td>1</td>\n",
       "      <td>281656475</td>\n",
       "      <td>PAC-MAN Premium</td>\n",
       "      <td>100788224</td>\n",
       "      <td>USD</td>\n",
       "      <td>3.99</td>\n",
       "      <td>21292</td>\n",
       "      <td>26</td>\n",
       "      <td>4.0</td>\n",
       "      <td>4.5</td>\n",
       "      <td>6.3.5</td>\n",
       "      <td>4+</td>\n",
       "      <td>Games</td>\n",
       "      <td>38</td>\n",
       "      <td>5</td>\n",
       "      <td>10</td>\n",
       "      <td>1</td>\n",
       "    </tr>\n",
       "    <tr>\n",
       "      <th>1</th>\n",
       "      <td>2</td>\n",
       "      <td>281796108</td>\n",
       "      <td>Evernote - stay organized</td>\n",
       "      <td>158578688</td>\n",
       "      <td>USD</td>\n",
       "      <td>0.00</td>\n",
       "      <td>161065</td>\n",
       "      <td>26</td>\n",
       "      <td>4.0</td>\n",
       "      <td>3.5</td>\n",
       "      <td>8.2.2</td>\n",
       "      <td>4+</td>\n",
       "      <td>Productivity</td>\n",
       "      <td>37</td>\n",
       "      <td>5</td>\n",
       "      <td>23</td>\n",
       "      <td>1</td>\n",
       "    </tr>\n",
       "    <tr>\n",
       "      <th>2</th>\n",
       "      <td>3</td>\n",
       "      <td>281940292</td>\n",
       "      <td>WeatherBug - Local Weather, Radar, Maps, Alerts</td>\n",
       "      <td>100524032</td>\n",
       "      <td>USD</td>\n",
       "      <td>0.00</td>\n",
       "      <td>188583</td>\n",
       "      <td>2822</td>\n",
       "      <td>3.5</td>\n",
       "      <td>4.5</td>\n",
       "      <td>5.0.0</td>\n",
       "      <td>4+</td>\n",
       "      <td>Weather</td>\n",
       "      <td>37</td>\n",
       "      <td>5</td>\n",
       "      <td>3</td>\n",
       "      <td>1</td>\n",
       "    </tr>\n",
       "  </tbody>\n",
       "</table>\n",
       "</div>"
      ],
      "text/plain": [
       "   Unnamed: 0         id                                       track_name  \\\n",
       "0           1  281656475                                  PAC-MAN Premium   \n",
       "1           2  281796108                        Evernote - stay organized   \n",
       "2           3  281940292  WeatherBug - Local Weather, Radar, Maps, Alerts   \n",
       "\n",
       "   size_bytes currency  price  rating_count_tot  rating_count_ver  \\\n",
       "0   100788224      USD   3.99             21292                26   \n",
       "1   158578688      USD   0.00            161065                26   \n",
       "2   100524032      USD   0.00            188583              2822   \n",
       "\n",
       "   user_rating  user_rating_ver    ver cont_rating   prime_genre  \\\n",
       "0          4.0              4.5  6.3.5          4+         Games   \n",
       "1          4.0              3.5  8.2.2          4+  Productivity   \n",
       "2          3.5              4.5  5.0.0          4+       Weather   \n",
       "\n",
       "   sup_devices.num  ipadSc_urls.num  lang.num  vpp_lic  \n",
       "0               38                5        10        1  \n",
       "1               37                5        23        1  \n",
       "2               37                5         3        1  "
      ]
     },
     "execution_count": 3,
     "metadata": {},
     "output_type": "execute_result"
    }
   ],
   "source": [
    "# Create a variable called apple, and store in it the path of the csv file that contains your apple dataset. \n",
    "apple='AppleStore.csv'\n",
    "\n",
    "# Read the csv file into a pandas DataFrame object called Apple.\n",
    "Apple=pd.read_csv(r'AppleStore.csv')\n",
    "\n",
    "# Observe the first three entries like you did with your other data. \n",
    "Apple.head(3)"
   ]
  },
  {
   "cell_type": "markdown",
   "metadata": {
    "colab_type": "text",
    "id": "vljOHKNTFcuw"
   },
   "source": [
    "### 1b. Pick the columns we'll work with\n",
    "\n",
    "From the documentation of these datasets, we can infer that the most appropriate columns to answer the brief are:\n",
    "\n",
    "1. Google:\n",
    "    * `Category` # Do we need this?\n",
    "    * `Rating`\n",
    "    * `Reviews`\n",
    "    * `Price` (maybe)\n",
    "2. Apple:    \n",
    "    * `prime_genre` # Do we need this?\n",
    "    * `user_rating` \n",
    "    * `rating_count_tot`\n",
    "    * `price` (maybe)"
   ]
  },
  {
   "cell_type": "markdown",
   "metadata": {
    "colab_type": "text",
    "id": "uf69AeTvFcux"
   },
   "source": [
    "### 1c. Subsetting accordingly\n",
    "\n",
    "Let's select only those columns that we want to work with from both datasets. We'll overwrite the subsets in the original variables."
   ]
  },
  {
   "cell_type": "code",
   "execution_count": 4,
   "metadata": {
    "colab": {},
    "colab_type": "code",
    "id": "LNSDXyjdFcuy"
   },
   "outputs": [
    {
     "data": {
      "text/html": [
       "<div>\n",
       "<style scoped>\n",
       "    .dataframe tbody tr th:only-of-type {\n",
       "        vertical-align: middle;\n",
       "    }\n",
       "\n",
       "    .dataframe tbody tr th {\n",
       "        vertical-align: top;\n",
       "    }\n",
       "\n",
       "    .dataframe thead th {\n",
       "        text-align: right;\n",
       "    }\n",
       "</style>\n",
       "<table border=\"1\" class=\"dataframe\">\n",
       "  <thead>\n",
       "    <tr style=\"text-align: right;\">\n",
       "      <th></th>\n",
       "      <th>Category</th>\n",
       "      <th>Rating</th>\n",
       "      <th>Reviews</th>\n",
       "      <th>Price</th>\n",
       "    </tr>\n",
       "  </thead>\n",
       "  <tbody>\n",
       "    <tr>\n",
       "      <th>0</th>\n",
       "      <td>ART_AND_DESIGN</td>\n",
       "      <td>4.1</td>\n",
       "      <td>159</td>\n",
       "      <td>0</td>\n",
       "    </tr>\n",
       "    <tr>\n",
       "      <th>1</th>\n",
       "      <td>ART_AND_DESIGN</td>\n",
       "      <td>3.9</td>\n",
       "      <td>967</td>\n",
       "      <td>0</td>\n",
       "    </tr>\n",
       "    <tr>\n",
       "      <th>2</th>\n",
       "      <td>ART_AND_DESIGN</td>\n",
       "      <td>4.7</td>\n",
       "      <td>87510</td>\n",
       "      <td>0</td>\n",
       "    </tr>\n",
       "  </tbody>\n",
       "</table>\n",
       "</div>"
      ],
      "text/plain": [
       "         Category  Rating Reviews Price\n",
       "0  ART_AND_DESIGN     4.1     159     0\n",
       "1  ART_AND_DESIGN     3.9     967     0\n",
       "2  ART_AND_DESIGN     4.7   87510     0"
      ]
     },
     "execution_count": 4,
     "metadata": {},
     "output_type": "execute_result"
    }
   ],
   "source": [
    "# Subset our DataFrame object Google by selecting just the variables ['Category', 'Rating', 'Reviews', 'Price']\n",
    "Google_sub=Google[['Category','Rating','Reviews','Price']]\n",
    "\n",
    "# Check the first three entries\n",
    "Google_sub.head(3)"
   ]
  },
  {
   "cell_type": "code",
   "execution_count": 5,
   "metadata": {
    "colab": {},
    "colab_type": "code",
    "id": "AVCtENPtFcu0"
   },
   "outputs": [
    {
     "data": {
      "text/html": [
       "<div>\n",
       "<style scoped>\n",
       "    .dataframe tbody tr th:only-of-type {\n",
       "        vertical-align: middle;\n",
       "    }\n",
       "\n",
       "    .dataframe tbody tr th {\n",
       "        vertical-align: top;\n",
       "    }\n",
       "\n",
       "    .dataframe thead th {\n",
       "        text-align: right;\n",
       "    }\n",
       "</style>\n",
       "<table border=\"1\" class=\"dataframe\">\n",
       "  <thead>\n",
       "    <tr style=\"text-align: right;\">\n",
       "      <th></th>\n",
       "      <th>prime_genre</th>\n",
       "      <th>user_rating</th>\n",
       "      <th>rating_count_tot</th>\n",
       "      <th>price</th>\n",
       "    </tr>\n",
       "  </thead>\n",
       "  <tbody>\n",
       "    <tr>\n",
       "      <th>0</th>\n",
       "      <td>Games</td>\n",
       "      <td>4.0</td>\n",
       "      <td>21292</td>\n",
       "      <td>3.99</td>\n",
       "    </tr>\n",
       "    <tr>\n",
       "      <th>1</th>\n",
       "      <td>Productivity</td>\n",
       "      <td>4.0</td>\n",
       "      <td>161065</td>\n",
       "      <td>0.00</td>\n",
       "    </tr>\n",
       "    <tr>\n",
       "      <th>2</th>\n",
       "      <td>Weather</td>\n",
       "      <td>3.5</td>\n",
       "      <td>188583</td>\n",
       "      <td>0.00</td>\n",
       "    </tr>\n",
       "  </tbody>\n",
       "</table>\n",
       "</div>"
      ],
      "text/plain": [
       "    prime_genre  user_rating  rating_count_tot  price\n",
       "0         Games          4.0             21292   3.99\n",
       "1  Productivity          4.0            161065   0.00\n",
       "2       Weather          3.5            188583   0.00"
      ]
     },
     "execution_count": 5,
     "metadata": {},
     "output_type": "execute_result"
    }
   ],
   "source": [
    "# Do the same with our Apple object, selecting just the variables ['prime_genre', 'user_rating', 'rating_count_tot', 'price']\n",
    "Apple_sub=Apple[['prime_genre', 'user_rating', 'rating_count_tot', 'price']]\n",
    "\n",
    "# Let's check the first three entries\n",
    "Apple_sub.head(3)"
   ]
  },
  {
   "cell_type": "markdown",
   "metadata": {
    "colab_type": "text",
    "id": "wwK2wH-rFcu2"
   },
   "source": [
    "## Stage 2 -  Cleaning, transforming and visualizing"
   ]
  },
  {
   "cell_type": "markdown",
   "metadata": {
    "colab_type": "text",
    "id": "NsoE5x0JFcu3"
   },
   "source": [
    "### 2a. Check the data types for both Apple and Google, and fix them\n",
    "\n",
    "Types are crucial for data science in Python. Let's determine whether the variables we selected in the previous section belong to the types they should do, or whether there are any errors here. "
   ]
  },
  {
   "cell_type": "code",
   "execution_count": 6,
   "metadata": {
    "colab": {},
    "colab_type": "code",
    "id": "ymw10SaWFcu4"
   },
   "outputs": [
    {
     "data": {
      "text/plain": [
       "prime_genre          object\n",
       "user_rating         float64\n",
       "rating_count_tot      int64\n",
       "price               float64\n",
       "dtype: object"
      ]
     },
     "execution_count": 6,
     "metadata": {},
     "output_type": "execute_result"
    }
   ],
   "source": [
    "# Using the dtypes feature of pandas DataFrame objects, check out the data types within our Apple dataframe.\n",
    "# Are they what you expect?\n",
    "Apple_sub.dtypes"
   ]
  },
  {
   "cell_type": "markdown",
   "metadata": {
    "colab_type": "text",
    "id": "VAiM6jIxFcu6"
   },
   "source": [
    "This is looking healthy. But what about our Google data frame?"
   ]
  },
  {
   "cell_type": "code",
   "execution_count": 7,
   "metadata": {
    "colab": {},
    "colab_type": "code",
    "id": "kmP8MhqyFcu7"
   },
   "outputs": [
    {
     "data": {
      "text/plain": [
       "Category     object\n",
       "Rating      float64\n",
       "Reviews      object\n",
       "Price        object\n",
       "dtype: object"
      ]
     },
     "execution_count": 7,
     "metadata": {},
     "output_type": "execute_result"
    }
   ],
   "source": [
    "# Using the same dtypes feature, check out the data types of our Google dataframe. \n",
    "Google_sub.dtypes"
   ]
  },
  {
   "cell_type": "markdown",
   "metadata": {
    "colab_type": "text",
    "id": "O-dxAy0WFcu9"
   },
   "source": [
    "Weird. The data type for the column 'Price' is 'object', not a numeric data type like a float or an integer. Let's investigate the unique values of this column. "
   ]
  },
  {
   "cell_type": "code",
   "execution_count": 8,
   "metadata": {
    "colab": {},
    "colab_type": "code",
    "id": "Hu08K9y7Fcu9"
   },
   "outputs": [
    {
     "data": {
      "text/plain": [
       "array(['0', '$4.99', '$3.99', '$6.99', '$1.49', '$2.99', '$7.99', '$5.99',\n",
       "       '$3.49', '$1.99', '$9.99', '$7.49', '$0.99', '$9.00', '$5.49',\n",
       "       '$10.00', '$24.99', '$11.99', '$79.99', '$16.99', '$14.99',\n",
       "       '$1.00', '$29.99', '$12.99', '$2.49', '$10.99', '$1.50', '$19.99',\n",
       "       '$15.99', '$33.99', '$74.99', '$39.99', '$3.95', '$4.49', '$1.70',\n",
       "       '$8.99', '$2.00', '$3.88', '$25.99', '$399.99', '$17.99',\n",
       "       '$400.00', '$3.02', '$1.76', '$4.84', '$4.77', '$1.61', '$2.50',\n",
       "       '$1.59', '$6.49', '$1.29', '$5.00', '$13.99', '$299.99', '$379.99',\n",
       "       '$37.99', '$18.99', '$389.99', '$19.90', '$8.49', '$1.75',\n",
       "       '$14.00', '$4.85', '$46.99', '$109.99', '$154.99', '$3.08',\n",
       "       '$2.59', '$4.80', '$1.96', '$19.40', '$3.90', '$4.59', '$15.46',\n",
       "       '$3.04', '$4.29', '$2.60', '$3.28', '$4.60', '$28.99', '$2.95',\n",
       "       '$2.90', '$1.97', '$200.00', '$89.99', '$2.56', '$30.99', '$3.61',\n",
       "       '$394.99', '$1.26', 'Everyone', '$1.20', '$1.04'], dtype=object)"
      ]
     },
     "execution_count": 8,
     "metadata": {},
     "output_type": "execute_result"
    }
   ],
   "source": [
    "# Use the unique() pandas method on the Price column to check its unique values. \n",
    "Google_sub['Price'].unique()"
   ]
  },
  {
   "cell_type": "markdown",
   "metadata": {
    "colab_type": "text",
    "id": "w_7nkogFFcu_"
   },
   "source": [
    "Aha! Fascinating. There are actually two issues here. \n",
    "\n",
    "- Firstly, there's a price called `Everyone`. That is a massive mistake! \n",
    "- Secondly, there are dollar symbols everywhere! \n",
    "\n",
    "\n",
    "Let's address the first issue first. Let's check the datapoints that have the price value `Everyone`"
   ]
  },
  {
   "cell_type": "code",
   "execution_count": 9,
   "metadata": {
    "colab": {},
    "colab_type": "code",
    "id": "E75WWmhdFcvA"
   },
   "outputs": [
    {
     "data": {
      "text/html": [
       "<div>\n",
       "<style scoped>\n",
       "    .dataframe tbody tr th:only-of-type {\n",
       "        vertical-align: middle;\n",
       "    }\n",
       "\n",
       "    .dataframe tbody tr th {\n",
       "        vertical-align: top;\n",
       "    }\n",
       "\n",
       "    .dataframe thead th {\n",
       "        text-align: right;\n",
       "    }\n",
       "</style>\n",
       "<table border=\"1\" class=\"dataframe\">\n",
       "  <thead>\n",
       "    <tr style=\"text-align: right;\">\n",
       "      <th></th>\n",
       "      <th>Category</th>\n",
       "      <th>Rating</th>\n",
       "      <th>Reviews</th>\n",
       "      <th>Price</th>\n",
       "    </tr>\n",
       "  </thead>\n",
       "  <tbody>\n",
       "    <tr>\n",
       "      <th>10472</th>\n",
       "      <td>1.9</td>\n",
       "      <td>19.0</td>\n",
       "      <td>3.0M</td>\n",
       "      <td>Everyone</td>\n",
       "    </tr>\n",
       "  </tbody>\n",
       "</table>\n",
       "</div>"
      ],
      "text/plain": [
       "      Category  Rating Reviews     Price\n",
       "10472      1.9    19.0    3.0M  Everyone"
      ]
     },
     "execution_count": 9,
     "metadata": {},
     "output_type": "execute_result"
    }
   ],
   "source": [
    "# Let's check which data points have the value 'Everyone' for the 'Price' column by subsetting our Google dataframe.\n",
    "Google_Price =Google_sub[Google_sub['Price']=='Everyone']\n",
    "# Subset the Google dataframe on the price column. \n",
    "# To be sure: you want to pick out just those rows whose value for the 'Price' column is just 'Everyone'. \n",
    "Google_Price"
   ]
  },
  {
   "cell_type": "markdown",
   "metadata": {
    "colab_type": "text",
    "id": "ezfLshdRFcvC"
   },
   "source": [
    "Thankfully, it's just one row. We've gotta get rid of it. "
   ]
  },
  {
   "cell_type": "code",
   "execution_count": 10,
   "metadata": {
    "colab": {},
    "colab_type": "code",
    "id": "DBmjUQUkFcvD"
   },
   "outputs": [
    {
     "data": {
      "text/html": [
       "<div>\n",
       "<style scoped>\n",
       "    .dataframe tbody tr th:only-of-type {\n",
       "        vertical-align: middle;\n",
       "    }\n",
       "\n",
       "    .dataframe tbody tr th {\n",
       "        vertical-align: top;\n",
       "    }\n",
       "\n",
       "    .dataframe thead th {\n",
       "        text-align: right;\n",
       "    }\n",
       "</style>\n",
       "<table border=\"1\" class=\"dataframe\">\n",
       "  <thead>\n",
       "    <tr style=\"text-align: right;\">\n",
       "      <th></th>\n",
       "      <th>Category</th>\n",
       "      <th>Rating</th>\n",
       "      <th>Reviews</th>\n",
       "      <th>Price</th>\n",
       "    </tr>\n",
       "  </thead>\n",
       "  <tbody>\n",
       "    <tr>\n",
       "      <th>0</th>\n",
       "      <td>ART_AND_DESIGN</td>\n",
       "      <td>4.1</td>\n",
       "      <td>159</td>\n",
       "      <td>0</td>\n",
       "    </tr>\n",
       "    <tr>\n",
       "      <th>1</th>\n",
       "      <td>ART_AND_DESIGN</td>\n",
       "      <td>3.9</td>\n",
       "      <td>967</td>\n",
       "      <td>0</td>\n",
       "    </tr>\n",
       "    <tr>\n",
       "      <th>2</th>\n",
       "      <td>ART_AND_DESIGN</td>\n",
       "      <td>4.7</td>\n",
       "      <td>87510</td>\n",
       "      <td>0</td>\n",
       "    </tr>\n",
       "    <tr>\n",
       "      <th>3</th>\n",
       "      <td>ART_AND_DESIGN</td>\n",
       "      <td>4.5</td>\n",
       "      <td>215644</td>\n",
       "      <td>0</td>\n",
       "    </tr>\n",
       "    <tr>\n",
       "      <th>4</th>\n",
       "      <td>ART_AND_DESIGN</td>\n",
       "      <td>4.3</td>\n",
       "      <td>967</td>\n",
       "      <td>0</td>\n",
       "    </tr>\n",
       "  </tbody>\n",
       "</table>\n",
       "</div>"
      ],
      "text/plain": [
       "         Category  Rating Reviews Price\n",
       "0  ART_AND_DESIGN     4.1     159     0\n",
       "1  ART_AND_DESIGN     3.9     967     0\n",
       "2  ART_AND_DESIGN     4.7   87510     0\n",
       "3  ART_AND_DESIGN     4.5  215644     0\n",
       "4  ART_AND_DESIGN     4.3     967     0"
      ]
     },
     "execution_count": 10,
     "metadata": {},
     "output_type": "execute_result"
    }
   ],
   "source": [
    "# Let's eliminate that row. \n",
    "\n",
    "# Subset our Google dataframe to pick out just those rows whose value for the 'Price' column is NOT 'Everyone'. \n",
    "# Reassign that subset to the Google variable. \n",
    "# You can do this in two lines or one. Your choice! \n",
    "Google_Price2 =Google_sub[Google_sub['Price']!='Everyone']\n",
    "\n",
    "# Check again the unique values of Google\n",
    "Google_Price2.head()"
   ]
  },
  {
   "cell_type": "markdown",
   "metadata": {
    "colab_type": "text",
    "id": "T43TB4qFFcvF"
   },
   "source": [
    "Our second problem remains: I'm seeing dollar symbols when I close my eyes! (And not in a good way). \n",
    "\n",
    "This is a problem because Python actually considers these values strings. So we can't do mathematical and statistical operations on them until we've made them into numbers. "
   ]
  },
  {
   "cell_type": "code",
   "execution_count": 11,
   "metadata": {
    "colab": {},
    "colab_type": "code",
    "id": "W87gVS9BFcvG"
   },
   "outputs": [
    {
     "name": "stderr",
     "output_type": "stream",
     "text": [
      "<ipython-input-11-2a6b4c2f4d43>:3: SettingWithCopyWarning: \n",
      "A value is trying to be set on a copy of a slice from a DataFrame.\n",
      "Try using .loc[row_indexer,col_indexer] = value instead\n",
      "\n",
      "See the caveats in the documentation: https://pandas.pydata.org/pandas-docs/stable/user_guide/indexing.html#returning-a-view-versus-a-copy\n",
      "  Google_Price2['Price']=Google_Price2['Price'].str.replace('$','',regex=True)\n",
      "<ipython-input-11-2a6b4c2f4d43>:10: SettingWithCopyWarning: \n",
      "A value is trying to be set on a copy of a slice from a DataFrame.\n",
      "Try using .loc[row_indexer,col_indexer] = value instead\n",
      "\n",
      "See the caveats in the documentation: https://pandas.pydata.org/pandas-docs/stable/user_guide/indexing.html#returning-a-view-versus-a-copy\n",
      "  Google_Price2['Price'] = pd.to_numeric(Google_Price2['Price'])\n"
     ]
    }
   ],
   "source": [
    "# Let's create a variable called nosymb.\n",
    "# This variable will take the Price column of Google and apply the str.replace() method. \n",
    "Google_Price2['Price']=Google_Price2['Price'].str.replace('$','',regex=True)\n",
    "\n",
    "#Google_Price2['Price'].uniques\n",
    "# Now we need to do two things:\n",
    "# i. Make the values in the nosymb variable numeric using the to_numeric() pandas method.\n",
    "# ii. Assign this new set of numeric, dollar-sign-less values to Google['Price']. \n",
    "# You can do this in one line if you wish.\n",
    "Google_Price2['Price'] = pd.to_numeric(Google_Price2['Price'])"
   ]
  },
  {
   "cell_type": "markdown",
   "metadata": {
    "colab_type": "text",
    "id": "LxpJQ9yyFcvI"
   },
   "source": [
    "Now let's check the data types for our Google dataframe again, to verify that the 'Price' column really is numeric now."
   ]
  },
  {
   "cell_type": "code",
   "execution_count": 12,
   "metadata": {
    "colab": {},
    "colab_type": "code",
    "id": "Fn5Gt-QbFcvI"
   },
   "outputs": [
    {
     "data": {
      "text/plain": [
       "Category     object\n",
       "Rating      float64\n",
       "Reviews      object\n",
       "Price       float64\n",
       "dtype: object"
      ]
     },
     "execution_count": 12,
     "metadata": {},
     "output_type": "execute_result"
    }
   ],
   "source": [
    "# Use the function dtypes. \n",
    "Google_Price2.dtypes"
   ]
  },
  {
   "cell_type": "code",
   "execution_count": 13,
   "metadata": {},
   "outputs": [
    {
     "data": {
      "text/plain": [
       "array(['159', '967', '87510', ..., '603', '1195', '398307'], dtype=object)"
      ]
     },
     "execution_count": 13,
     "metadata": {},
     "output_type": "execute_result"
    }
   ],
   "source": [
    "\n",
    "#sample looks like all number so will try to use pd.to_numeric directly \n",
    "Google_Price2['Reviews'].unique()"
   ]
  },
  {
   "cell_type": "markdown",
   "metadata": {
    "colab_type": "text",
    "id": "FgfuiVo0FcvK"
   },
   "source": [
    "Notice that the column `Reviews` is still an object column. We actually need this column to be a numeric column, too. "
   ]
  },
  {
   "cell_type": "code",
   "execution_count": 14,
   "metadata": {
    "colab": {},
    "colab_type": "code",
    "id": "MiVEWsWBFcvL"
   },
   "outputs": [
    {
     "name": "stderr",
     "output_type": "stream",
     "text": [
      "<ipython-input-14-aa9b1a388031>:2: SettingWithCopyWarning: \n",
      "A value is trying to be set on a copy of a slice from a DataFrame.\n",
      "Try using .loc[row_indexer,col_indexer] = value instead\n",
      "\n",
      "See the caveats in the documentation: https://pandas.pydata.org/pandas-docs/stable/user_guide/indexing.html#returning-a-view-versus-a-copy\n",
      "  Google_Price2['Reviews'] = pd.to_numeric(Google_Price2['Reviews'])\n"
     ]
    }
   ],
   "source": [
    "# Convert the 'Reviews' column to a numeric data type. \n",
    "Google_Price2['Reviews'] = pd.to_numeric(Google_Price2['Reviews'])"
   ]
  },
  {
   "cell_type": "code",
   "execution_count": 15,
   "metadata": {
    "colab": {},
    "colab_type": "code",
    "id": "wWJdXXTTFcvN"
   },
   "outputs": [
    {
     "data": {
      "text/plain": [
       "Category     object\n",
       "Rating      float64\n",
       "Reviews       int64\n",
       "Price       float64\n",
       "dtype: object"
      ]
     },
     "execution_count": 15,
     "metadata": {},
     "output_type": "execute_result"
    }
   ],
   "source": [
    "# Let's check the data types of Google again\n",
    "Google_Price2.dtypes"
   ]
  },
  {
   "cell_type": "code",
   "execution_count": 16,
   "metadata": {},
   "outputs": [],
   "source": [
    "#Renaming Google_Price2 (4 columns) back to Google variable\n",
    "Google = Google_Price2\n",
    "#Rename Apple_sub (4 columns) back to apple\n",
    "Apple = Apple_sub"
   ]
  },
  {
   "cell_type": "markdown",
   "metadata": {
    "colab_type": "text",
    "id": "OiLm2GEKFcvP"
   },
   "source": [
    "### 2b. Add a `platform` column to both the `Apple` and the `Google` dataframes\n",
    "Let's add a new column to both dataframe objects called `platform`: all of its values in the Google dataframe will be just 'google', and all of its values for the Apple dataframe will be just 'apple'. \n",
    "\n",
    "The reason we're making this column is so that we can ultimately join our Apple and Google data together, and actually test out some hypotheses to solve the problem in our brief. "
   ]
  },
  {
   "cell_type": "code",
   "execution_count": 17,
   "metadata": {
    "colab": {},
    "colab_type": "code",
    "id": "mF-sOcx2FcvQ"
   },
   "outputs": [
    {
     "name": "stderr",
     "output_type": "stream",
     "text": [
      "<ipython-input-17-e3a7886504ff>:3: SettingWithCopyWarning: \n",
      "A value is trying to be set on a copy of a slice from a DataFrame.\n",
      "Try using .loc[row_indexer,col_indexer] = value instead\n",
      "\n",
      "See the caveats in the documentation: https://pandas.pydata.org/pandas-docs/stable/user_guide/indexing.html#returning-a-view-versus-a-copy\n",
      "  Google['platform']='google'\n"
     ]
    }
   ],
   "source": [
    "# Create a column called 'platform' in both the Apple and Google dataframes. \n",
    "# Add the value 'apple' and the value 'google' as appropriate. \n",
    "Google['platform']='google'\n",
    "Apple['platform'] = 'apple'"
   ]
  },
  {
   "cell_type": "code",
   "execution_count": null,
   "metadata": {},
   "outputs": [],
   "source": []
  },
  {
   "cell_type": "markdown",
   "metadata": {
    "colab_type": "text",
    "id": "EJcry17IFcvS"
   },
   "source": [
    "### 2c. Changing the column names to prepare for our join of the two datasets \n",
    "Since the easiest way to join two datasets is if they have both:\n",
    "- the same number of columns\n",
    "- the same column names\n",
    "we need to rename the columns of `Apple` so that they're the same as the ones of `Google`, or vice versa.\n",
    "\n",
    "In this case, we're going to change the `Apple` columns names to the names of the `Google` columns. \n",
    "\n",
    "This is an important step to unify the two datasets!"
   ]
  },
  {
   "cell_type": "code",
   "execution_count": 18,
   "metadata": {
    "colab": {},
    "colab_type": "code",
    "id": "bdt9XH2KFcvT"
   },
   "outputs": [],
   "source": [
    "# Create a variable called old_names where you'll store the column names of the Apple dataframe. \n",
    "# Use the feature .columns.\n",
    "old_names = list(Apple.columns)\n",
    "\n",
    "# Create a variable called new_names where you'll store the column names of the Google dataframe. \n",
    "new_names = list(Google.columns)\n",
    "\n",
    "# Use the rename() DataFrame method to change the columns names. \n",
    "Apple.rename(columns= {i:j for i,j in zip(old_names, new_names)},inplace= True)"
   ]
  },
  {
   "cell_type": "markdown",
   "metadata": {
    "colab_type": "text",
    "id": "qewPiLrRFcvX"
   },
   "source": [
    "### 2d. Join the two datasets \n",
    "Let's combine the two datasets into a single data frame called `df`."
   ]
  },
  {
   "cell_type": "code",
   "execution_count": 19,
   "metadata": {
    "colab": {},
    "colab_type": "code",
    "id": "jq6fGfvyFcvY"
   },
   "outputs": [
    {
     "data": {
      "text/html": [
       "<div>\n",
       "<style scoped>\n",
       "    .dataframe tbody tr th:only-of-type {\n",
       "        vertical-align: middle;\n",
       "    }\n",
       "\n",
       "    .dataframe tbody tr th {\n",
       "        vertical-align: top;\n",
       "    }\n",
       "\n",
       "    .dataframe thead th {\n",
       "        text-align: right;\n",
       "    }\n",
       "</style>\n",
       "<table border=\"1\" class=\"dataframe\">\n",
       "  <thead>\n",
       "    <tr style=\"text-align: right;\">\n",
       "      <th></th>\n",
       "      <th>Category</th>\n",
       "      <th>Rating</th>\n",
       "      <th>Reviews</th>\n",
       "      <th>Price</th>\n",
       "      <th>platform</th>\n",
       "    </tr>\n",
       "  </thead>\n",
       "  <tbody>\n",
       "    <tr>\n",
       "      <th>3869</th>\n",
       "      <td>Education</td>\n",
       "      <td>5.0</td>\n",
       "      <td>1</td>\n",
       "      <td>2.99</td>\n",
       "      <td>apple</td>\n",
       "    </tr>\n",
       "    <tr>\n",
       "      <th>5226</th>\n",
       "      <td>FAMILY</td>\n",
       "      <td>4.5</td>\n",
       "      <td>6750</td>\n",
       "      <td>0.00</td>\n",
       "      <td>google</td>\n",
       "    </tr>\n",
       "    <tr>\n",
       "      <th>1073</th>\n",
       "      <td>FINANCE</td>\n",
       "      <td>4.4</td>\n",
       "      <td>250706</td>\n",
       "      <td>0.00</td>\n",
       "      <td>google</td>\n",
       "    </tr>\n",
       "    <tr>\n",
       "      <th>1241</th>\n",
       "      <td>FOOD_AND_DRINK</td>\n",
       "      <td>3.6</td>\n",
       "      <td>22875</td>\n",
       "      <td>0.00</td>\n",
       "      <td>google</td>\n",
       "    </tr>\n",
       "    <tr>\n",
       "      <th>1959</th>\n",
       "      <td>GAME</td>\n",
       "      <td>4.5</td>\n",
       "      <td>80678</td>\n",
       "      <td>0.00</td>\n",
       "      <td>google</td>\n",
       "    </tr>\n",
       "    <tr>\n",
       "      <th>3677</th>\n",
       "      <td>Games</td>\n",
       "      <td>4.5</td>\n",
       "      <td>15</td>\n",
       "      <td>0.99</td>\n",
       "      <td>apple</td>\n",
       "    </tr>\n",
       "    <tr>\n",
       "      <th>3424</th>\n",
       "      <td>Entertainment</td>\n",
       "      <td>2.5</td>\n",
       "      <td>439</td>\n",
       "      <td>0.00</td>\n",
       "      <td>apple</td>\n",
       "    </tr>\n",
       "    <tr>\n",
       "      <th>423</th>\n",
       "      <td>Games</td>\n",
       "      <td>3.5</td>\n",
       "      <td>3064</td>\n",
       "      <td>2.99</td>\n",
       "      <td>apple</td>\n",
       "    </tr>\n",
       "    <tr>\n",
       "      <th>5418</th>\n",
       "      <td>Games</td>\n",
       "      <td>0.0</td>\n",
       "      <td>0</td>\n",
       "      <td>0.00</td>\n",
       "      <td>apple</td>\n",
       "    </tr>\n",
       "    <tr>\n",
       "      <th>5176</th>\n",
       "      <td>MEDICAL</td>\n",
       "      <td>NaN</td>\n",
       "      <td>0</td>\n",
       "      <td>0.00</td>\n",
       "      <td>google</td>\n",
       "    </tr>\n",
       "    <tr>\n",
       "      <th>7162</th>\n",
       "      <td>Games</td>\n",
       "      <td>4.5</td>\n",
       "      <td>26</td>\n",
       "      <td>2.99</td>\n",
       "      <td>apple</td>\n",
       "    </tr>\n",
       "    <tr>\n",
       "      <th>1414</th>\n",
       "      <td>Weather</td>\n",
       "      <td>3.5</td>\n",
       "      <td>60</td>\n",
       "      <td>2.99</td>\n",
       "      <td>apple</td>\n",
       "    </tr>\n",
       "  </tbody>\n",
       "</table>\n",
       "</div>"
      ],
      "text/plain": [
       "            Category  Rating  Reviews  Price platform\n",
       "3869       Education     5.0        1   2.99    apple\n",
       "5226          FAMILY     4.5     6750   0.00   google\n",
       "1073         FINANCE     4.4   250706   0.00   google\n",
       "1241  FOOD_AND_DRINK     3.6    22875   0.00   google\n",
       "1959            GAME     4.5    80678   0.00   google\n",
       "3677           Games     4.5       15   0.99    apple\n",
       "3424   Entertainment     2.5      439   0.00    apple\n",
       "423            Games     3.5     3064   2.99    apple\n",
       "5418           Games     0.0        0   0.00    apple\n",
       "5176         MEDICAL     NaN        0   0.00   google\n",
       "7162           Games     4.5       26   2.99    apple\n",
       "1414         Weather     3.5       60   2.99    apple"
      ]
     },
     "execution_count": 19,
     "metadata": {},
     "output_type": "execute_result"
    }
   ],
   "source": [
    "# Let's use the append() method to append Apple to Google. \n",
    "df= Google.append(Apple)\n",
    "\n",
    "# Using the sample() method with the number 12 passed to it, check 12 random points of your dataset.\n",
    "df.sample(12)"
   ]
  },
  {
   "cell_type": "markdown",
   "metadata": {
    "colab_type": "text",
    "id": "FjqsHugWFcvb"
   },
   "source": [
    "### 2e. Eliminate the NaN values\n",
    "\n",
    "As you can see there are some `NaN` values. We want to eliminate all these `NaN` values from the table."
   ]
  },
  {
   "cell_type": "code",
   "execution_count": 20,
   "metadata": {
    "colab": {},
    "colab_type": "code",
    "id": "Gp2q6GLyFcvb"
   },
   "outputs": [
    {
     "data": {
      "text/plain": [
       "(16563, 5)"
      ]
     },
     "execution_count": 20,
     "metadata": {},
     "output_type": "execute_result"
    }
   ],
   "source": [
    "# Lets check first the dimesions of df before droping `NaN` values. Use the .shape feature. \n",
    "df.shape\n",
    "\n",
    "# Use the dropna() method to eliminate all the NaN values, and overwrite the same dataframe with the result. \n",
    "df.dropna(axis=0,how='any',inplace=True)\n",
    "\n",
    "# Check the new dimesions of our dataframe. \n",
    "df.shape"
   ]
  },
  {
   "cell_type": "markdown",
   "metadata": {
    "colab_type": "text",
    "id": "qtfeQKtAFcvd"
   },
   "source": [
    "### 2f. Filter the data so that we only see whose apps that have been reviewed at least once\n",
    "\n",
    "Apps that haven't been reviewed yet can't help us solve our brief. \n",
    "\n",
    "So let's check to see if any apps have no reviews at all. "
   ]
  },
  {
   "cell_type": "code",
   "execution_count": 21,
   "metadata": {
    "colab": {},
    "colab_type": "code",
    "id": "Ge9OKXLNFcvd"
   },
   "outputs": [
    {
     "data": {
      "text/plain": [
       "Category    929\n",
       "Rating      929\n",
       "Reviews     929\n",
       "Price       929\n",
       "platform    929\n",
       "dtype: int64"
      ]
     },
     "execution_count": 21,
     "metadata": {},
     "output_type": "execute_result"
    }
   ],
   "source": [
    "# Subset your df to pick out just those rows whose value for 'Reviews' is equal to 0. \n",
    "# Do a count() on the result. \n",
    "df[df['Reviews']==0].count()"
   ]
  },
  {
   "cell_type": "markdown",
   "metadata": {
    "colab_type": "text",
    "id": "05f7H0kAFcvg"
   },
   "source": [
    "929 apps do not have reviews, we need to eliminate these points!"
   ]
  },
  {
   "cell_type": "code",
   "execution_count": 22,
   "metadata": {
    "colab": {},
    "colab_type": "code",
    "id": "pD8vmPjkFcvg"
   },
   "outputs": [
    {
     "data": {
      "text/plain": [
       "(15634, 5)"
      ]
     },
     "execution_count": 22,
     "metadata": {},
     "output_type": "execute_result"
    }
   ],
   "source": [
    "# Eliminate the points that have 0 reviews.\n",
    "df = df[df['Reviews']!=0]\n",
    "df.shape"
   ]
  },
  {
   "cell_type": "markdown",
   "metadata": {
    "colab_type": "text",
    "id": "ApnKES_bFcvi"
   },
   "source": [
    "### 2g. Summarize the data visually and analytically (by the column `platform`)"
   ]
  },
  {
   "cell_type": "markdown",
   "metadata": {
    "colab_type": "text",
    "id": "2smt9UocFcvj"
   },
   "source": [
    "What we need to solve our brief is a summary of the `Rating` column, but separated by the different platforms."
   ]
  },
  {
   "cell_type": "code",
   "execution_count": 23,
   "metadata": {
    "colab": {},
    "colab_type": "code",
    "id": "Vqckt347Fcvj"
   },
   "outputs": [
    {
     "data": {
      "text/plain": [
       "platform\n",
       "apple     4.049697\n",
       "google    4.191757\n",
       "Name: Rating, dtype: float64"
      ]
     },
     "execution_count": 23,
     "metadata": {},
     "output_type": "execute_result"
    }
   ],
   "source": [
    "# To summarize analytically, let's use the groupby() method on our df.\n",
    "df['Rating'].groupby(df['platform']).mean()"
   ]
  },
  {
   "cell_type": "markdown",
   "metadata": {
    "colab_type": "text",
    "id": "8f9TqMtKFcvl"
   },
   "source": [
    "Interesting! Our means of 4.049697 and 4.191757 don't **seem** all that different! Perhaps we've solved our brief already: there's no significant difference between Google Play app reviews and Apple Store app reviews. We have an ***observed difference*** here: which is simply (4.191757 - 4.049697) = 0.14206. This is just the actual difference that we observed between the mean rating for apps from Google Play, and the mean rating for apps from the Apple Store. Let's look at how we're going to use this observed difference to solve our problem using a statistical test. \n",
    "\n",
    "**Outline of our method:**\n",
    "1. We'll assume that platform (i.e, whether the app was Google or Apple) really doesn’t impact on ratings. \n",
    "\n",
    "\n",
    "2. Given this assumption, we should actually be able to get a difference in mean rating for Apple apps and mean rating for Google apps that's pretty similar to the one we actually got (0.14206) just by: \n",
    "a. shuffling the ratings column, \n",
    "b. keeping the platform column the same,\n",
    "c. calculating the difference between the mean rating for Apple and the mean rating for Google. \n",
    "\n",
    "\n",
    "3. We can make the shuffle more useful by doing it many times, each time calculating the mean rating for Apple apps and the mean rating for Google apps, and the difference between these means. \n",
    "\n",
    "\n",
    "4. We can then take the mean of all these differences, and this will be called our permutation difference. This permutation difference will be great indicator of what the difference would be if our initial assumption were true and platform really doesn’t impact on ratings. \n",
    "\n",
    "\n",
    "5. Now we do a comparison. If the observed difference looks just like the permutation difference, then we stick with the claim that actually, platform doesn’t impact on ratings. If instead, however, the permutation difference differs significantly from the observed difference, we'll conclude: something's going on; the platform does in fact impact on ratings. \n",
    "\n",
    "\n",
    "6. As for what the definition of *significantly* is, we'll get to that. But there’s a brief summary of what we're going to do. Exciting!\n",
    "\n",
    "If you want to look more deeply at the statistics behind this project, check out [this resource](https://www.springboard.com/archeio/download/4ea4d453b0b84014bcef287c50f47f00/)."
   ]
  },
  {
   "cell_type": "markdown",
   "metadata": {
    "colab_type": "text",
    "id": "d6EhTxArFcvm"
   },
   "source": [
    "Let's also get a **visual summary** of the `Rating` column, separated by the different platforms. \n",
    "\n",
    "A good tool to use here is the boxplot!"
   ]
  },
  {
   "cell_type": "code",
   "execution_count": 24,
   "metadata": {
    "colab": {},
    "colab_type": "code",
    "id": "hFKjrlWgFcvm"
   },
   "outputs": [
    {
     "data": {
      "text/plain": [
       "<AxesSubplot:>"
      ]
     },
     "execution_count": 24,
     "metadata": {},
     "output_type": "execute_result"
    },
    {
     "data": {
      "image/png": "[encoded data removed]",
      "text/plain": [
       "<Figure size 432x288 with 1 Axes>"
      ]
     },
     "metadata": {
      "needs_background": "light"
     },
     "output_type": "display_data"
    }
   ],
   "source": [
    "# Call the boxplot() method on our df.\n",
    "df.boxplot()"
   ]
  },
  {
   "cell_type": "markdown",
   "metadata": {
    "colab_type": "text",
    "id": "FqTlAjnmFcvo"
   },
   "source": [
    "Here we see the same information as in the analytical summary, but with a boxplot. Can you see how the boxplot is working here? If you need to revise your boxplots, check out this this [link](https://www.kaggle.com/ramamet4/app-store-apple-data-set-10k-apps). "
   ]
  },
  {
   "cell_type": "markdown",
   "metadata": {
    "colab_type": "text",
    "id": "O8L-s1fgFcvp"
   },
   "source": [
    "## Stage 3 - Modelling"
   ]
  },
  {
   "cell_type": "markdown",
   "metadata": {
    "colab_type": "text",
    "id": "5fbRq2MZFcvq"
   },
   "source": [
    "### 3a. Hypothesis formulation\n",
    "\n",
    "Our **Null hypothesis** is just:\n",
    "\n",
    "**H<sub>null</sub>**: the observed difference in the mean rating of Apple Store and Google Play apps is due to chance (and thus not due to the platform).\n",
    "\n",
    "The more interesting hypothesis is called the **Alternate hypothesis**:\n",
    "\n",
    "**H<sub>alternative</sub>**: the observed difference in the average ratings of apple and google users is not due to chance (and is actually due to platform)\n",
    "\n",
    "We're also going to pick a **significance level** of 0.05. "
   ]
  },
  {
   "cell_type": "markdown",
   "metadata": {
    "colab_type": "text",
    "id": "TjBqkabaFcvq"
   },
   "source": [
    "### 3b. Getting the distribution of the data\n",
    "Now that the hypotheses and significance level are defined, we can select a statistical test to determine which hypothesis to accept. \n",
    "\n",
    "There are many different statistical tests, all with different assumptions. You'll generate an excellent judgement about when to use which statistical tests over the Data Science Career Track course. But in general, one of the most important things to determine is the **distribution of the data**.   "
   ]
  },
  {
   "cell_type": "code",
   "execution_count": 25,
   "metadata": {
    "colab": {},
    "colab_type": "code",
    "id": "bFwVhkeWFcvr"
   },
   "outputs": [],
   "source": [
    "# Create a subset of the column 'Rating' by the different platforms.\n",
    "# Call the subsets 'apple' and 'google' \n",
    "apple= df.loc[df['platform']=='apple','Rating']\n",
    "google = df.loc[df['platform']=='google','Rating']\n"
   ]
  },
  {
   "cell_type": "code",
   "execution_count": 26,
   "metadata": {
    "colab": {},
    "colab_type": "code",
    "id": "oPPFpwPvFcvu"
   },
   "outputs": [
    {
     "name": "stdout",
     "output_type": "stream",
     "text": [
      "NormaltestResult(statistic=1778.9974234584017, pvalue=0.0)\n"
     ]
    }
   ],
   "source": [
    "# Using the stats.normaltest() method, get an indication of whether the apple data are normally distributed\n",
    "# Save the result in a variable called apple_normal, and print it out\n",
    "apple_normal = stats.normaltest(apple)\n",
    "print(apple_normal)\n"
   ]
  },
  {
   "cell_type": "code",
   "execution_count": 27,
   "metadata": {
    "colab": {},
    "colab_type": "code",
    "id": "rCdh8a8KFcvw"
   },
   "outputs": [
    {
     "name": "stdout",
     "output_type": "stream",
     "text": [
      "NormaltestResult(statistic=3678.6157187516856, pvalue=0.0)\n"
     ]
    }
   ],
   "source": [
    "# Do the same with the google data. \n",
    "google_normal = stats.normaltest(google)\n",
    "print(google_normal)"
   ]
  },
  {
   "cell_type": "markdown",
   "metadata": {
    "colab_type": "text",
    "id": "9gDqu21yFcv0"
   },
   "source": [
    "Since the null hypothesis of the normaltest() is that the data are normally distributed, the lower the p-value in the result of this test, the more likely the data are to be non-normal. \n",
    "\n",
    "Since the p-values is 0 for both tests, regardless of what we pick for the significance level, our conclusion is that the data are not normally distributed. \n",
    "\n",
    "We can actually also check out the distribution of the data visually with a histogram. A normal distribution has the following visual characteristics:\n",
    "    - symmetric\n",
    "    - unimodal (one hump)\n",
    "As well as a roughly identical mean, median and mode. "
   ]
  },
  {
   "cell_type": "code",
   "execution_count": 28,
   "metadata": {
    "colab": {},
    "colab_type": "code",
    "id": "P9tT9RjNFcv1"
   },
   "outputs": [
    {
     "data": {
      "image/png": "[encoded data removed]",
      "text/plain": [
       "<Figure size 432x288 with 1 Axes>"
      ]
     },
     "metadata": {
      "needs_background": "light"
     },
     "output_type": "display_data"
    }
   ],
   "source": [
    "# Create a histogram of the apple reviews distribution\n",
    "_ = plt.hist(apple)\n",
    "_ = plt.xlabel('Apple Rating')\n",
    "_ = plt.ylabel('Count')\n",
    "plt.show()"
   ]
  },
  {
   "cell_type": "code",
   "execution_count": 29,
   "metadata": {
    "colab": {},
    "colab_type": "code",
    "id": "8dE1uC5iFcv2"
   },
   "outputs": [
    {
     "data": {
      "image/png": "[encoded data removed]",
      "text/plain": [
       "<Figure size 432x288 with 1 Axes>"
      ]
     },
     "metadata": {
      "needs_background": "light"
     },
     "output_type": "display_data"
    }
   ],
   "source": [
    "# Create a histogram of the google data\n",
    "_ = plt.hist(google)\n",
    "_ = plt.xlabel('Google Rating')\n",
    "_ = plt.ylabel('Count')\n",
    "plt.show()"
   ]
  },
  {
   "cell_type": "code",
   "execution_count": null,
   "metadata": {},
   "outputs": [],
   "source": []
  },
  {
   "cell_type": "markdown",
   "metadata": {
    "colab_type": "text",
    "id": "QhZV89FzFcv5"
   },
   "source": [
    "### 3c. Permutation test\n",
    "Since the data aren't normally distributed, we're using a *non-parametric* test here. This is simply a label for statistical tests used when the data aren't normally distributed. These tests are extraordinarily powerful due to how few assumptions we need to make.  \n",
    "\n",
    "Check out more about permutations [here.](http://rasbt.github.io/mlxtend/user_guide/evaluate/permutation_test/)"
   ]
  },
  {
   "cell_type": "code",
   "execution_count": 30,
   "metadata": {
    "colab": {},
    "colab_type": "code",
    "id": "bxNhQgpqFcv6"
   },
   "outputs": [
    {
     "data": {
      "text/html": [
       "<div>\n",
       "<style scoped>\n",
       "    .dataframe tbody tr th:only-of-type {\n",
       "        vertical-align: middle;\n",
       "    }\n",
       "\n",
       "    .dataframe tbody tr th {\n",
       "        vertical-align: top;\n",
       "    }\n",
       "\n",
       "    .dataframe thead th {\n",
       "        text-align: right;\n",
       "    }\n",
       "</style>\n",
       "<table border=\"1\" class=\"dataframe\">\n",
       "  <thead>\n",
       "    <tr style=\"text-align: right;\">\n",
       "      <th></th>\n",
       "      <th>count</th>\n",
       "      <th>mean</th>\n",
       "      <th>std</th>\n",
       "      <th>min</th>\n",
       "      <th>25%</th>\n",
       "      <th>50%</th>\n",
       "      <th>75%</th>\n",
       "      <th>max</th>\n",
       "    </tr>\n",
       "    <tr>\n",
       "      <th>platform</th>\n",
       "      <th></th>\n",
       "      <th></th>\n",
       "      <th></th>\n",
       "      <th></th>\n",
       "      <th></th>\n",
       "      <th></th>\n",
       "      <th></th>\n",
       "      <th></th>\n",
       "    </tr>\n",
       "  </thead>\n",
       "  <tbody>\n",
       "    <tr>\n",
       "      <th>apple</th>\n",
       "      <td>6268.0</td>\n",
       "      <td>4.136168</td>\n",
       "      <td>0.611648</td>\n",
       "      <td>1.0</td>\n",
       "      <td>4.0</td>\n",
       "      <td>4.3</td>\n",
       "      <td>4.5</td>\n",
       "      <td>5.0</td>\n",
       "    </tr>\n",
       "    <tr>\n",
       "      <th>google</th>\n",
       "      <td>9366.0</td>\n",
       "      <td>4.133889</td>\n",
       "      <td>0.613855</td>\n",
       "      <td>1.0</td>\n",
       "      <td>4.0</td>\n",
       "      <td>4.3</td>\n",
       "      <td>4.5</td>\n",
       "      <td>5.0</td>\n",
       "    </tr>\n",
       "  </tbody>\n",
       "</table>\n",
       "</div>"
      ],
      "text/plain": [
       "           count      mean       std  min  25%  50%  75%  max\n",
       "platform                                                     \n",
       "apple     6268.0  4.136168  0.611648  1.0  4.0  4.3  4.5  5.0\n",
       "google    9366.0  4.133889  0.613855  1.0  4.0  4.3  4.5  5.0"
      ]
     },
     "execution_count": 30,
     "metadata": {},
     "output_type": "execute_result"
    }
   ],
   "source": [
    "# Create a column called `Permutation1`, and assign to it the result of permuting (shuffling) the Rating column\n",
    "# This assignment will use our numpy object's random.permutation() method\n",
    "df['Permutation1'] = np.random.permutation(df['Rating'])\n",
    "\n",
    "# Call the describe() method on our permutation grouped by 'platform'. \n",
    "df['Permutation1'].groupby(df['platform']).describe()"
   ]
  },
  {
   "cell_type": "code",
   "execution_count": 31,
   "metadata": {
    "colab": {},
    "colab_type": "code",
    "id": "AaGNfPGTFcv7"
   },
   "outputs": [
    {
     "data": {
      "text/html": [
       "<div>\n",
       "<style scoped>\n",
       "    .dataframe tbody tr th:only-of-type {\n",
       "        vertical-align: middle;\n",
       "    }\n",
       "\n",
       "    .dataframe tbody tr th {\n",
       "        vertical-align: top;\n",
       "    }\n",
       "\n",
       "    .dataframe thead th {\n",
       "        text-align: right;\n",
       "    }\n",
       "</style>\n",
       "<table border=\"1\" class=\"dataframe\">\n",
       "  <thead>\n",
       "    <tr style=\"text-align: right;\">\n",
       "      <th></th>\n",
       "      <th>count</th>\n",
       "      <th>mean</th>\n",
       "      <th>std</th>\n",
       "      <th>min</th>\n",
       "      <th>25%</th>\n",
       "      <th>50%</th>\n",
       "      <th>75%</th>\n",
       "      <th>max</th>\n",
       "    </tr>\n",
       "    <tr>\n",
       "      <th>platform</th>\n",
       "      <th></th>\n",
       "      <th></th>\n",
       "      <th></th>\n",
       "      <th></th>\n",
       "      <th></th>\n",
       "      <th></th>\n",
       "      <th></th>\n",
       "      <th></th>\n",
       "    </tr>\n",
       "  </thead>\n",
       "  <tbody>\n",
       "    <tr>\n",
       "      <th>apple</th>\n",
       "      <td>6268.0</td>\n",
       "      <td>4.049697</td>\n",
       "      <td>0.726943</td>\n",
       "      <td>1.0</td>\n",
       "      <td>4.0</td>\n",
       "      <td>4.5</td>\n",
       "      <td>4.5</td>\n",
       "      <td>5.0</td>\n",
       "    </tr>\n",
       "    <tr>\n",
       "      <th>google</th>\n",
       "      <td>9366.0</td>\n",
       "      <td>4.191757</td>\n",
       "      <td>0.515219</td>\n",
       "      <td>1.0</td>\n",
       "      <td>4.0</td>\n",
       "      <td>4.3</td>\n",
       "      <td>4.5</td>\n",
       "      <td>5.0</td>\n",
       "    </tr>\n",
       "  </tbody>\n",
       "</table>\n",
       "</div>"
      ],
      "text/plain": [
       "           count      mean       std  min  25%  50%  75%  max\n",
       "platform                                                     \n",
       "apple     6268.0  4.049697  0.726943  1.0  4.0  4.5  4.5  5.0\n",
       "google    9366.0  4.191757  0.515219  1.0  4.0  4.3  4.5  5.0"
      ]
     },
     "execution_count": 31,
     "metadata": {},
     "output_type": "execute_result"
    }
   ],
   "source": [
    "# Lets compare with the previous analytical summary:\n",
    "a_rating= df['Rating'].groupby(df['platform']).describe()\n",
    "a_rating"
   ]
  },
  {
   "cell_type": "code",
   "execution_count": 32,
   "metadata": {},
   "outputs": [
    {
     "data": {
      "text/plain": [
       "0.14206054745123442"
      ]
     },
     "execution_count": 32,
     "metadata": {},
     "output_type": "execute_result"
    }
   ],
   "source": [
    "a_rating.loc['google','mean']-a_rating.loc['apple','mean']"
   ]
  },
  {
   "cell_type": "code",
   "execution_count": 41,
   "metadata": {
    "colab": {},
    "colab_type": "code",
    "id": "aJPNpX0JFcv-"
   },
   "outputs": [],
   "source": [
    "# The difference in the means for Permutation1 (0.001103) now looks hugely different to our observed difference of 0.14206. \n",
    "# It's sure starting to look like our observed difference is significant, and that the Null is false; platform does impact on ratings\n",
    "# But to be sure, let's create 10,000 permutations, calculate the mean ratings for Google and Apple apps and the difference between these for each one, and then take the average of all of these differences.\n",
    "# Let's create a vector with the differences - that will be the distibution of the Null.\n",
    "\n",
    "# First, make a list called difference.(create empty list)\n",
    "difference = []\n",
    "\n",
    "# Now make a for loop that does the following 10,000 times:\n",
    "# 1. makes a permutation of the 'Rating' as you did above\n",
    "# 2. calculates the difference in the mean rating for apple and the mean rating for google. \n",
    "for i in range(10000):\n",
    "    df['Permutation1'] = np.random.permutation(df['Rating'])\n",
    "    a_rating = df['Permutation1'].groupby(df['platform']).describe()\n",
    "    a_rating = pd.DataFrame(a_rating)\n",
    "    difference.append((a_rating.loc['google','mean']-a_rating.loc['apple','mean']))"
   ]
  },
  {
   "cell_type": "code",
   "execution_count": 42,
   "metadata": {},
   "outputs": [
    {
     "data": {
      "text/plain": [
       "[0.016042802920180677,\n",
       " -0.0004151358203339228,\n",
       " 0.008852441334522787,\n",
       " -0.003983685644327828,\n",
       " 0.003526247567361196,\n",
       " 0.0014224010293482081,\n",
       " 0.010636716246530398,\n",
       " -0.008803891003596576,\n",
       " -0.016873074560841417,\n",
       " -0.006140794120015336,\n",
       " 0.013938956382151702,\n",
       " 0.009917680087973224,\n",
       " 0.015163980948622147,\n",
       " -0.0013738506984255494,\n",
       " -0.01689970552970177,\n",
       " 0.000490317120105388,\n",
       " 0.005816510887274973,\n",
       " 0.006269237357458657,\n",
       " -0.012745274391324557,\n",
       " 0.005390415385862823,\n",
       " -0.00635384187071697,\n",
       " 0.00850623873966061,\n",
       " -0.00896367681660415,\n",
       " -0.002811923015541673,\n",
       " -0.023237876112609968,\n",
       " 0.009704632337273367,\n",
       " 0.005044212790994429,\n",
       " -0.009762605881709518,\n",
       " 0.012713931815729218,\n",
       " 0.0023544849386123445,\n",
       " -0.0013205887607412592,\n",
       " 0.013619384756159647,\n",
       " 0.00022400743174344484,\n",
       " 0.004990950853344778,\n",
       " 0.008932334241037232,\n",
       " 0.005816510887243886,\n",
       " -0.009070200691961183,\n",
       " -0.008164747751543189,\n",
       " -0.00022871903845977926,\n",
       " 0.009624739430763363,\n",
       " 0.006082820575612047,\n",
       " -0.0013205887607368183,\n",
       " 0.012261205345491355,\n",
       " 0.004271914694757406,\n",
       " -0.008457688408742392,\n",
       " -0.009602820068684181,\n",
       " -0.0030782327039142743,\n",
       " -0.004409781145708003,\n",
       " 0.01566996935650078,\n",
       " 0.007174690297865105,\n",
       " 0.00570998701190728,\n",
       " -0.012612119547143585,\n",
       " 0.014604730603072547,\n",
       " 0.004192021788276712,\n",
       " 0.0008897816526296509,\n",
       " 0.005576832167727197,\n",
       " -0.002758661077897351,\n",
       " -0.009469665224499657,\n",
       " -0.018710611410526212,\n",
       " 0.011462276280446382,\n",
       " -0.014023560895443765,\n",
       " -0.012186024045735877,\n",
       " 0.0074942619239068975,\n",
       " 0.006508916076962024,\n",
       " 0.012713931815725665,\n",
       " -0.005634805712150914,\n",
       " 0.008000250331815728,\n",
       " -0.018044837189632013,\n",
       " -0.019083444974219432,\n",
       " 0.0035528785362055615,\n",
       " -0.013890406051229043,\n",
       " -0.015142061586527866,\n",
       " 0.0029936281906515205,\n",
       " 0.014604730603053895,\n",
       " 0.0012892461851770065,\n",
       " -0.004729352771735584,\n",
       " 0.0092519058670808,\n",
       " 0.027041393049382023,\n",
       " -0.0030516017350583624,\n",
       " -0.005261972148450589,\n",
       " -0.008164747751536972,\n",
       " -0.017166015218046837,\n",
       " 0.015483552574635517,\n",
       " 0.007121428360205684,\n",
       " 0.011195966592085327,\n",
       " 0.0037659262868974253,\n",
       " -0.0006015526021636575,\n",
       " 0.014684623509575445,\n",
       " -0.008617474221758847,\n",
       " 0.009411691680082157,\n",
       " -0.006114163151183405,\n",
       " -0.015035537711169944,\n",
       " -0.009123462629617052,\n",
       " 0.008346452926653924,\n",
       " 0.013299813130116966,\n",
       " -0.015754573869749322,\n",
       " 0.006508916076992222,\n",
       " 0.0031534140036857394,\n",
       " -0.006939723185114488,\n",
       " 0.002114806219085885,\n",
       " 0.0011294603721312413,\n",
       " 0.01801349461403845,\n",
       " -0.013490941518707444,\n",
       " -0.010348487196087497,\n",
       " 0.005363784417049544,\n",
       " 0.007893726456439154,\n",
       " 0.003659402411568813,\n",
       " 0.008293190988974075,\n",
       " -0.0004151358203188238,\n",
       " -0.005128817304246525,\n",
       " 0.0008098887461143178,\n",
       " 0.002461008813935628,\n",
       " 0.001741972655377566,\n",
       " -0.0018532081374553755,\n",
       " -0.01658013390366797,\n",
       " 0.0016354487800240847,\n",
       " 0.007547523861564542,\n",
       " -9.556419430278851e-05,\n",
       " 0.00515073666634791,\n",
       " 0.0037392953180610533,\n",
       " 0.011249228529769617,\n",
       " 0.012607407940401494,\n",
       " 3.759064987196581e-05,\n",
       " -0.0005749216333379437,\n",
       " -0.024063436146542827,\n",
       " -0.002625506233694175,\n",
       " -0.01556815708789916,\n",
       " -0.005368496023788083,\n",
       " -0.0032912804545892627,\n",
       " -0.005794591525144277,\n",
       " 0.010689978184222682,\n",
       " -0.013597465394058261,\n",
       " 0.013219920223596304,\n",
       " -0.013863775082405105,\n",
       " 0.020143972120928666,\n",
       " 0.004218652757084662,\n",
       " 0.0068018567341994185,\n",
       " -0.006700044465580035,\n",
       " -0.022492208985199547,\n",
       " 0.010130727838640219,\n",
       " 0.019984186307898888,\n",
       " 0.008799179396872248,\n",
       " 0.0014490319981685928,\n",
       " 0.01593627904485828,\n",
       " 0.003739295318059277,\n",
       " -0.003344542392268224,\n",
       " 0.0038458191933994357,\n",
       " 0.0065355470458179354,\n",
       " -0.014263239614937362,\n",
       " -0.006566889621385741,\n",
       " -0.006673413496736558,\n",
       " 0.009544846524256023,\n",
       " -0.007658759343679655,\n",
       " -0.004383150176869854,\n",
       " 0.00043705518242109775,\n",
       " 0.012847086659898643,\n",
       " 0.007733940643428028,\n",
       " 0.010397037527019037,\n",
       " 0.004005605006410562,\n",
       " -0.01026859428958371,\n",
       " -0.009895760725862957,\n",
       " -0.006353841870717858,\n",
       " 0.015563445481159732,\n",
       " -0.0054483889303051924,\n",
       " 0.0034996165985434757,\n",
       " -0.0018532081374367237,\n",
       " 0.0003039003382436789,\n",
       " 0.012980241504078727,\n",
       " 0.0055502011988881605,\n",
       " -0.004170102426145128,\n",
       " -0.0035842211118009004,\n",
       " 0.0060828205756005005,\n",
       " -0.0010010171346950258,\n",
       " 0.017507506206161594,\n",
       " 0.012314467283174757,\n",
       " -0.01239907179643307,\n",
       " 0.00022400743172656945,\n",
       " 0.005044212791004199,\n",
       " -0.0025189823583513515,\n",
       " -0.006273948964205189,\n",
       " 0.007068166422537381,\n",
       " 0.0012626152163290882,\n",
       " -0.01378388217589066,\n",
       " 0.011329121436264522,\n",
       " -0.0031314946415728073,\n",
       " -0.004223364363847182,\n",
       " 0.0002772693694250705,\n",
       " -0.025501508463665168,\n",
       " -0.007365818686464465,\n",
       " -0.00587448443167915,\n",
       " 0.003153414003664423,\n",
       " -0.005927746369338571,\n",
       " -0.021213922481086556,\n",
       " -0.005208710210774292,\n",
       " 0.017374351361993057,\n",
       " -0.002039624919328631,\n",
       " 0.012021526625979106,\n",
       " -0.011466987887208013,\n",
       " -0.010721320759775388,\n",
       " -0.0049424005224194545,\n",
       " -0.012851798266678038,\n",
       " 0.007893726456451589,\n",
       " -0.010241963320743785,\n",
       " 0.006855118671846405,\n",
       " -0.007179401904591209,\n",
       " 0.010929656903738483,\n",
       " 0.009784525243780706,\n",
       " 0.008026881300619237,\n",
       " 0.01154216918694928,\n",
       " 0.006269237357455104,\n",
       " 0.007041535453703673,\n",
       " 0.015510183543485212,\n",
       " -0.005208710210798273,\n",
       " -0.0003618738826585144,\n",
       " 0.003339830785529685,\n",
       " 0.007068166422528499,\n",
       " -0.0020662558881383575,\n",
       " -0.01980248113278993,\n",
       " 0.01031714462050548,\n",
       " -0.0014803745737594909,\n",
       " 0.007733940643439574,\n",
       " -0.007312556748792609,\n",
       " -0.010694689790953227,\n",
       " 0.017693922988026856,\n",
       " -0.002066255888140134,\n",
       " 0.021528782500371157,\n",
       " 0.009145381991709556,\n",
       " 0.004005605006399016,\n",
       " -0.01024196332073224,\n",
       " -0.014689335116313984,\n",
       " -0.0024923513895336313,\n",
       " -0.011360464011839433,\n",
       " 0.013193289254767926,\n",
       " -4.2302256616721934e-05,\n",
       " 0.015163980948623923,\n",
       " 0.007547523861591188,\n",
       " -0.015088799648864004,\n",
       " 0.011648693062285886,\n",
       " -0.012878429235510858,\n",
       " 0.011302490467419268,\n",
       " -0.006486996714892612,\n",
       " 0.008985596178733957,\n",
       " 0.02206140187708794,\n",
       " -0.018870397223554214,\n",
       " -0.011094154323484595,\n",
       " -0.01783178943893393,\n",
       " -0.009709343944017235,\n",
       " 0.013619384756148989,\n",
       " -0.0012140648853913305,\n",
       " -0.01969595725745954,\n",
       " -0.004010316613155318,\n",
       " 0.006642070921146548,\n",
       " 0.0008365197149382553,\n",
       " 0.000809888746124976,\n",
       " -0.008910414878954498,\n",
       " 0.010104096869801182,\n",
       " -0.007658759343660115,\n",
       " 0.002966997221796497,\n",
       " -0.006167425088865919,\n",
       " 0.001475662967000524,\n",
       " -0.001773315230963135,\n",
       " 0.008026881300635225,\n",
       " -0.009682712975179975,\n",
       " 0.006588808983482686,\n",
       " 0.019717876619540498,\n",
       " -0.00986912975701415,\n",
       " -0.005528281836814308,\n",
       " 0.006109451544445754,\n",
       " -0.0102952252584112,\n",
       " -0.01293169117315962,\n",
       " 0.0010495674656372245,\n",
       " 0.017294458455462625,\n",
       " -0.0039037927378213766,\n",
       " 0.016708577141098857,\n",
       " -0.004596197927543955,\n",
       " -0.005661436680974852,\n",
       " 0.01034377558934807,\n",
       " -0.0011341719788857674,\n",
       " -0.004170102426180655,\n",
       " -0.011200678198821201,\n",
       " 0.00823992905131199,\n",
       " 0.00997094202562998,\n",
       " -0.010960999479316058,\n",
       " -0.006913092216283445,\n",
       " -0.012532226640618482,\n",
       " 0.00839971486432578,\n",
       " 0.008985596178714417,\n",
       " 0.01870589980378856,\n",
       " -0.01615403840230467,\n",
       " 0.0006234719642668196,\n",
       " 0.007654047736920688,\n",
       " 0.0057366179807392115,\n",
       " 0.007467630955072302,\n",
       " 0.005949665731449727,\n",
       " 0.015163980948627476,\n",
       " 0.013273182161267272,\n",
       " 0.0011294603721427876,\n",
       " 0.008772548428026106,\n",
       " -0.001187433916577163,\n",
       " 0.00823992905129245,\n",
       " 0.002274592032100564,\n",
       " 0.003446354660866291,\n",
       " -0.007498973530641884,\n",
       " 0.002381115907435394,\n",
       " 0.0016887107177083749,\n",
       " -0.002492351389501657,\n",
       " 0.0011560913410004758,\n",
       " -0.01732580103106418,\n",
       " -0.02174654185779179,\n",
       " 0.013113396348256146,\n",
       " 0.0037392953180663824,\n",
       " -0.0011874339165691694,\n",
       " -9.55641943072294e-05,\n",
       " -0.01823125397150349,\n",
       " 0.012207943407841704,\n",
       " 0.005363784417061979,\n",
       " -0.005927746369336795,\n",
       " 0.0053904153858832515,\n",
       " 0.007680678705756172,\n",
       " -0.006966354153940202,\n",
       " -0.014875751898175693,\n",
       " 0.0041387598506013035,\n",
       " 0.0021946991255719084,\n",
       " 0.009811156212611749,\n",
       " -0.0009477551970444864,\n",
       " -0.01809809912731719,\n",
       " -0.0022260417011619182,\n",
       " 0.01034377558932853,\n",
       " -0.011094154323482819,\n",
       " -0.0030516017350699087,\n",
       " 0.005656725074263846,\n",
       " -0.015887728713930294,\n",
       " -0.006486996714884619,\n",
       " -0.0039037927378249293,\n",
       " -0.006673413496737446,\n",
       " -0.010534903977907462,\n",
       " 0.006295868326279042,\n",
       " -0.016446979059487,\n",
       " -0.010774582697444579,\n",
       " 0.01039703752701282,\n",
       " 0.0076540477369198,\n",
       " -0.008271271626894006,\n",
       " 0.0006234719642757014,\n",
       " 0.005337153448201626,\n",
       " -0.004409781145709779,\n",
       " 0.009038858116404924,\n",
       " 0.006642070921170529,\n",
       " -0.006353841870738286,\n",
       " -0.007046247060430666,\n",
       " 0.00022400743173456306,\n",
       " -0.004196733395013474,\n",
       " 0.001608817811199259,\n",
       " -0.019083444974231867,\n",
       " 0.0041920217882545074,\n",
       " -0.022172637359168412,\n",
       " -0.006806568340937069,\n",
       " 0.004777903102641368,\n",
       " 0.003978974037582184,\n",
       " 0.009997572994469905,\n",
       " -0.002226041701146819,\n",
       " -0.005208710210759193,\n",
       " -0.00608753218236302,\n",
       " 0.00581651088722257,\n",
       " 0.006109451544456412,\n",
       " -0.0074457115929780215,\n",
       " 0.005203998604028648,\n",
       " 0.012207943407851474,\n",
       " -0.011387094980672252,\n",
       " 0.00421865275710509,\n",
       " 0.015377028699300688,\n",
       " -0.003477697236456301,\n",
       " 0.006322499295127848,\n",
       " -0.022651994798220443,\n",
       " 0.0006767339019502217,\n",
       " 0.003552878536203785,\n",
       " -0.00259887526485425,\n",
       " 0.0058165108872492155,\n",
       " -0.011839821450892352,\n",
       " -0.010721320759791375,\n",
       " -0.001533636511418912,\n",
       " 0.0029137352841477338,\n",
       " 0.019771138557224788,\n",
       " 6.422161870833776e-05,\n",
       " 0.0030735210971561955,\n",
       " -0.005022293428920577,\n",
       " -0.01666002681016554,\n",
       " -0.0033179114234362928,\n",
       " 0.0012892461851681247,\n",
       " -0.015062168680017862,\n",
       " -0.011094154323489924,\n",
       " 0.013992218319832439,\n",
       " -0.0033711733611081485,\n",
       " -0.0041701024261771025,\n",
       " -0.0005749216333379437,\n",
       " -0.0030516017350841196,\n",
       " 0.004511593414275872,\n",
       " -0.005634805712147362,\n",
       " 0.010769871090706928,\n",
       " 0.01782707783220161,\n",
       " -0.009283248442655712,\n",
       " 0.004351807601283397,\n",
       " 0.004751272133818318,\n",
       " -0.020015528883480904,\n",
       " -0.0058212224939984125,\n",
       " -0.003371173361094826,\n",
       " 0.00051694808893199,\n",
       " 0.010903025934896782,\n",
       " 0.003339830785530573,\n",
       " 0.0028338423776421706,\n",
       " 0.006721963827670763,\n",
       " 0.0026207946269583005,\n",
       " 0.008346452926667247,\n",
       " 0.005443677323577312,\n",
       " -0.024436269710226277,\n",
       " 0.006242606388636496,\n",
       " -0.002705399140204179,\n",
       " -0.009016938754297321,\n",
       " 0.0030468901283189354,\n",
       " 0.012554146002693223,\n",
       " 0.007174690297873987,\n",
       " 0.0005968409954189013,\n",
       " 0.0075475238615849705,\n",
       " 0.007254583204381326,\n",
       " 0.004298545663607101,\n",
       " 0.013779170569165444,\n",
       " 0.0077872025810998835,\n",
       " 0.0019550204060490017,\n",
       " 0.013672646693811963,\n",
       " 0.009917680087958125,\n",
       " 0.0086393935838327,\n",
       " 0.005843141856078482,\n",
       " 0.00664207092115543,\n",
       " 0.0034197236920388008,\n",
       " -0.0185774565663559,\n",
       " 0.014471575758893351,\n",
       " 0.006695332858850378,\n",
       " 0.0018218655618742474,\n",
       " -0.006460365746039365,\n",
       " 0.007574154830400914,\n",
       " -0.006407103808382608,\n",
       " 0.011888371781836327,\n",
       " -0.00946966522449788,\n",
       " 0.010157358807480144,\n",
       " 0.011808478875297013,\n",
       " 0.005976296700264783,\n",
       " -0.008484319377557448,\n",
       " -0.00805822387623234,\n",
       " 0.005017581822175821,\n",
       " -0.0008146003528759493,\n",
       " -0.01056153494674561,\n",
       " 0.0062159754197983474,\n",
       " 0.017054779735966363,\n",
       " -0.005714698618653813,\n",
       " -0.00470272180288589,\n",
       " 0.005417046354723176,\n",
       " -0.0025722442960463,\n",
       " -0.003610852080619509,\n",
       " -0.005767960556323004,\n",
       " -0.010747951728626859,\n",
       " 0.005656725074230984,\n",
       " 0.003712664349202477,\n",
       " 0.004511593414291859,\n",
       " 0.0096780013684441,\n",
       " -0.010934368510461034,\n",
       " 0.0019283894372197352,\n",
       " 0.01353949184962211,\n",
       " -0.0016934223244557955,\n",
       " -0.0025988752648649083,\n",
       " 0.006881749640693435,\n",
       " -0.0056614366809935035,\n",
       " 0.011622062093453067,\n",
       " 0.00216806815672399,\n",
       " -0.024968889086924406,\n",
       " 0.0052039986040419706,\n",
       " 0.015776493231832056,\n",
       " -0.012665381484792348,\n",
       " -0.007845176125522713,\n",
       " -1.5671287775020915e-05,\n",
       " -0.0016934223244202684,\n",
       " -0.0007879693840244784,\n",
       " -0.0033978043299551786,\n",
       " 0.011515538218129784,\n",
       " 0.015590076450006762,\n",
       " -0.004036947581978367,\n",
       " -0.011147416261151122,\n",
       " -0.0035309591741068402,\n",
       " 0.010982918841405898,\n",
       " -0.004569566958725346,\n",
       " 0.00954484652427201,\n",
       " -0.0037440069248049213,\n",
       " -0.004542935989872099,\n",
       " -0.011626773700196047,\n",
       " -0.012505595671799874,\n",
       " -0.0009211242281947918,\n",
       " 0.00033053130707560996,\n",
       " 0.0006501029331085206,\n",
       " -0.009150093598457865,\n",
       " 0.014365051883530988,\n",
       " 0.002594163658113935,\n",
       " -0.015381740306049885,\n",
       " 0.008186667113638357,\n",
       " 0.005709987011909057,\n",
       " 0.003259937879020569,\n",
       " 0.0076540477369269055,\n",
       " 0.0038191882245479647,\n",
       " 0.006775225765326631,\n",
       " -0.0039037927378249293,\n",
       " -0.0064071038083790555,\n",
       " 0.007334476110883337,\n",
       " 0.0030202591595136496,\n",
       " 0.008452976802006518,\n",
       " 0.0038191882245781628,\n",
       " 0.010556823340028387,\n",
       " 0.001875127499550544,\n",
       " 0.0009963055279724742,\n",
       " -0.013730620238237456,\n",
       " -0.0078185451566819,\n",
       " 0.005789879918419061,\n",
       " -0.00028198097616094486,\n",
       " -0.022625363829373413,\n",
       " 0.018732530772617828,\n",
       " -0.01405019186425438,\n",
       " -0.00012219516314448953,\n",
       " 0.00019737646287953936,\n",
       " -0.0017733152309560296,\n",
       " -0.007685390312503593,\n",
       " 0.0059230347625955915,\n",
       " 0.0014756629670182875,\n",
       " -0.01080121366630138,\n",
       " 0.004511593414272319,\n",
       " 0.009331798773590805,\n",
       " -0.0067533064032456736,\n",
       " -0.004303257270353633,\n",
       " -0.032398929392123854,\n",
       " -0.007871807094359973,\n",
       " -0.01660676487247681,\n",
       " 0.005470308292367498,\n",
       " 0.0009696745591405431,\n",
       " 0.001582186842361999,\n",
       " -0.013171369892688745,\n",
       " -0.016154038402298454,\n",
       " -0.011839821450884358,\n",
       " 0.008426345833154159,\n",
       " -0.007951700000869089,\n",
       " 0.0076274167680754346,\n",
       " -0.009389772317992318,\n",
       " -0.014929013835841332,\n",
       " 0.006881749640664125,\n",
       " 0.0007033648707830409,\n",
       " -0.001347219729586513,\n",
       " 0.0004636861512459234,\n",
       " -0.020308469540663232,\n",
       " -0.007126139966945999,\n",
       " 0.0023012230009378243,\n",
       " -0.005421757961455498,\n",
       " -0.016819812623201535,\n",
       " 0.00866602455266996,\n",
       " 0.007307845142042524,\n",
       " -0.0007879693840386892,\n",
       " -0.02928310603832518,\n",
       " -0.008191378720392883,\n",
       " 0.008772548428015448,\n",
       " -0.005901115400491541,\n",
       " 0.01002420396330006,\n",
       " -0.010455011071426767,\n",
       " -0.010508273009113722,\n",
       " 0.0025409017204687245,\n",
       " -0.004622828896369668,\n",
       " 0.0026474255957804615,\n",
       " -0.010854475603961689,\n",
       " -0.013490941518698563,\n",
       " 0.0017419726553642434,\n",
       " -0.013251262799171215,\n",
       " -0.00677993737208471,\n",
       " 0.0009430435902979539,\n",
       " -0.01114741626115201,\n",
       " 9.08525875491506e-05,\n",
       " 0.017480875237336768,\n",
       " -0.0008146003528661794,\n",
       " -0.0059543773381713905,\n",
       " -0.002998339797398053,\n",
       " 0.00613608251329989,\n",
       " -0.0002553500072925985,\n",
       " -0.003291280454591039,\n",
       " -0.008457688408749497,\n",
       " 0.0027006875334523173,\n",
       " -0.0031314946415781364,\n",
       " 0.012234574376691398,\n",
       " 0.011994895657157834,\n",
       " -0.0007613384152085345,\n",
       " 0.004431700507772973,\n",
       " 0.01769392298801531,\n",
       " 0.022114663814783775,\n",
       " -0.0027053991402024025,\n",
       " 0.0041121288817596025,\n",
       " -0.015514895150218422,\n",
       " 0.004165390819451886,\n",
       " -0.004276626301516373,\n",
       " -0.004116840488501694,\n",
       " 0.007787202581089225,\n",
       " -0.011866452419716289,\n",
       " 0.005789879918416396,\n",
       " 0.007068166422532052,\n",
       " -0.0021195178258217595,\n",
       " -0.006380472839536466,\n",
       " 0.0033398307855074805,\n",
       " -0.004702721802896548,\n",
       " -0.014502918334468262,\n",
       " 0.018519483021931293,\n",
       " 0.008026881300607691,\n",
       " 0.003206675941337167,\n",
       " -0.005847853462827679,\n",
       " 0.026002785264783057,\n",
       " 0.008026881300610356,\n",
       " 0.007760571612260847,\n",
       " 0.0010761984344682674,\n",
       " 0.0052572605417049445,\n",
       " -0.010588165915598857,\n",
       " 0.014285158977044965,\n",
       " 0.00017074549408579998,\n",
       " 0.002966997221811596,\n",
       " -0.010481642040260475,\n",
       " -0.0071261399669531045,\n",
       " 0.0214755205627144,\n",
       " -0.004649459865223804,\n",
       " -0.0065935205902256655,\n",
       " 0.017347720393143362,\n",
       " -0.008590843252918923,\n",
       " -0.00560817474331099,\n",
       " -0.0035309591741077284,\n",
       " 0.007014904484860196,\n",
       " -0.008963676816621025,\n",
       " 0.005896403793761884,\n",
       " 0.011835109844153813,\n",
       " -0.01104089238581274,\n",
       " 0.03202138422169032,\n",
       " -0.021693279920150133,\n",
       " 0.01521724288629489,\n",
       " -0.0010010171347083485,\n",
       " -0.009922391694693111,\n",
       " -0.008457688408737063,\n",
       " -0.0032113875480899168,\n",
       " 0.011275859498594443,\n",
       " -0.0017999461997835198,\n",
       " -0.008111485813881991,\n",
       " 0.0074143690174119925,\n",
       " -0.007578866437168763,\n",
       " 0.013353075067780829,\n",
       " -0.004942400522425672,\n",
       " -0.00470272180288589,\n",
       " 0.012793824722239222,\n",
       " -0.012239285983408621,\n",
       " 0.003020259159471017,\n",
       " -0.010588165915600634,\n",
       " 0.0047246411649872755,\n",
       " 0.001848496530703514,\n",
       " -0.010082177507714896,\n",
       " 0.008958965209889591,\n",
       " 0.0017952345930494218,\n",
       " 0.0005169480889151146,\n",
       " 0.0018484965307017376,\n",
       " -0.004649459865213146,\n",
       " 0.015057457073265113,\n",
       " -0.00044176678916674206,\n",
       " 0.000490317120095618,\n",
       " 0.016974886829459024,\n",
       " -0.010774582697452573,\n",
       " -0.007685390312500928,\n",
       " -0.007925069032017618,\n",
       " 0.013566122818501114,\n",
       " 0.0003837932447376957,\n",
       " -0.001347219729591842,\n",
       " -0.0013472197295936184,\n",
       " 0.011968264688315244,\n",
       " 0.015243873855126822,\n",
       " -0.007552235468323509,\n",
       " 0.006242606388635608,\n",
       " 0.0046181172896408995,\n",
       " 0.009891049119111095,\n",
       " -0.014076822833075653,\n",
       " -0.0177785275012754,\n",
       " 0.007787202581096331,\n",
       " -0.002146148794665237,\n",
       " -0.009815867819367163,\n",
       " -0.0021994107323504153,\n",
       " 0.003765926286901866,\n",
       " -0.0039570546754692515,\n",
       " -0.010428380102598389,\n",
       " -0.02539498458831435,\n",
       " 0.004484962445457263,\n",
       " 0.0012892461851663484,\n",
       " 0.006162713482108728,\n",
       " 0.01023725171400347,\n",
       " -0.01450291833446471,\n",
       " -0.013224631830344613,\n",
       " -0.012878429235477107,\n",
       " -0.013064846017329934,\n",
       " -0.0007613384152032054,\n",
       " -0.004835876647059756,\n",
       " -0.006833199309753901,\n",
       " 0.009518215555423204,\n",
       " 0.007121428360205684,\n",
       " 0.008293190988967858,\n",
       " 0.010397037526997721,\n",
       " -0.025155305868791444,\n",
       " -0.0027852920467079656,\n",
       " -0.005714698618644931,\n",
       " -0.004010316613140219,\n",
       " -0.0125055956717679,\n",
       " -0.0032380185169254005,\n",
       " -0.012345809858757661,\n",
       " 0.0034197236920219254,\n",
       " 0.005816510887266091,\n",
       " -0.011493618856031063,\n",
       " -0.004463043083367424,\n",
       " -0.01591435968278443,\n",
       " -0.014822489960498508,\n",
       " -0.004969031491245168,\n",
       " -0.01436976349028729,\n",
       " 0.016415636483898766,\n",
       " 0.022434235440808692,\n",
       " 9.085258757757231e-05,\n",
       " -0.0027320301090405508,\n",
       " 0.0015555558735123043,\n",
       " 0.0030735210971553073,\n",
       " 0.005230629572873902,\n",
       " 0.008506238739676597,\n",
       " 0.002753949471138384,\n",
       " -0.004170102426176214,\n",
       " 0.0032333069101850853,\n",
       " -0.008431057439905132,\n",
       " -0.008031592907376428,\n",
       " 0.008452976802004741,\n",
       " -0.016553502934818276,\n",
       " 0.0008365197149426962,\n",
       " -0.015488264181369615,\n",
       " 0.013699277662657217,\n",
       " -0.004383150176866302,\n",
       " 0.010130727838636666,\n",
       " 0.02682834529870437,\n",
       " 0.0027006875334683045,\n",
       " -0.003184756579255321,\n",
       " -0.004516305021020628,\n",
       " -6.893322546375202e-05,\n",
       " 0.0009963055279653688,\n",
       " -0.0038771617689752347,\n",
       " 0.0059496657314142,\n",
       " 0.010290513651653121,\n",
       " 0.008532869708522739,\n",
       " 0.0019550204060623244,\n",
       " 0.004884426978002843,\n",
       " 0.004431700507789849,\n",
       " 0.008506238739677485,\n",
       " -0.001134171978878662,\n",
       " 0.0042985456635964425,\n",
       " -0.00379726886245102,\n",
       " -0.0035575901429405477,\n",
       " 0.005523570230044683,\n",
       " -0.005874484431665827,\n",
       " -0.006939723185099389,\n",
       " 0.0028604733464776544,\n",
       " 0.007254583204378662,\n",
       " -0.00598100830702375,\n",
       " 0.011648693062300985,\n",
       " -0.008750629065916726,\n",
       " -0.00885715294128886,\n",
       " -0.000601552602181421,\n",
       " 0.01764066105034434,\n",
       " 0.014791147384929815,\n",
       " -0.014849120929323334,\n",
       " 0.004058866944083306,\n",
       " -0.015221954493031653,\n",
       " 0.0021148062190832206,\n",
       " 0.008985596178717081,\n",
       " 0.007787202581098995,\n",
       " -0.00440978114571422,\n",
       " 0.021315734749679294,\n",
       " 0.002700687533476298,\n",
       " 0.007520892892722841,\n",
       " -0.004303257270353633,\n",
       " 0.01042366849583587,\n",
       " -0.01647361002830916,\n",
       " 0.009917680087953684,\n",
       " 0.006056189606775675,\n",
       " -0.005954377338155403,\n",
       " 0.010823133028374343,\n",
       " -0.0008146003528697321,\n",
       " -0.002998339797417593,\n",
       " -0.005794591525161152,\n",
       " -0.015648049994413604,\n",
       " -0.026566747217099618,\n",
       " -0.01490238286701917,\n",
       " -0.00012219516313560774,\n",
       " -0.00036187388265584985,\n",
       " -0.0037440069248004804,\n",
       " -0.00944303425566062,\n",
       " 0.0016620797488799965,\n",
       " -0.012612119547122269,\n",
       " 0.013512860880805277,\n",
       " 0.004298545663609765,\n",
       " 0.005310522479374136,\n",
       " -0.0009211242281965681,\n",
       " 0.003020259159480787,\n",
       " 0.008053512269468932,\n",
       " 0.002674056564623939,\n",
       " 0.023872307757924816,\n",
       " 0.008745917459175523,\n",
       " -0.019216599818394187,\n",
       " -0.018231253971481287,\n",
       " 0.0023544849385759292,\n",
       " -0.008297902595722384,\n",
       " 0.004511593414306958,\n",
       " -0.00611416315119051,\n",
       " -0.004036947582002348,\n",
       " 0.010317144620486829,\n",
       " -0.007605497406006023,\n",
       " -0.0004950287268350451,\n",
       " 0.00022400743173101034,\n",
       " -0.0014537436049275598,\n",
       " -0.0037706378936226415,\n",
       " 0.010104096869824275,\n",
       " -0.012079500170409041,\n",
       " -0.0088305219724365,\n",
       " 0.004245283725953897,\n",
       " -0.0060076392758396935,\n",
       " 0.012580776971543806,\n",
       " 0.009358429742431618,\n",
       " -0.006060901213491121,\n",
       " -0.006992985122765916,\n",
       " 0.0026740565646230507,\n",
       " 0.00038379324474480114,\n",
       " -0.014929013835834226,\n",
       " -0.0004151358203179356,\n",
       " 0.009012227147562335,\n",
       " -0.0070728780292652615,\n",
       " -0.0064869967148935,\n",
       " -0.011333833043011055,\n",
       " 0.01207478856367139,\n",
       " 0.0030468901283455807,\n",
       " -0.01237244082760025,\n",
       " -0.0072859257799891,\n",
       " -0.01985574307045379,\n",
       " -0.006833199309741467,\n",
       " 0.010743240121881215,\n",
       " -0.01333115570569987,\n",
       " 0.010157358807482808,\n",
       " -0.0009477551970400455,\n",
       " -0.002652137202535876,\n",
       " -0.008830521972455152,\n",
       " 0.002540901720442079,\n",
       " 0.0009963055279600397,\n",
       " 0.008186667113657009,\n",
       " -0.015115430617699488,\n",
       " -0.006779937372088263,\n",
       " -0.004569566958732452,\n",
       " 0.0009164126214828983,\n",
       " -0.004915769553576865,\n",
       " -0.008963676816622801,\n",
       " 0.02283369997331164,\n",
       " 0.003526247567370966,\n",
       " -0.0005216596956625352,\n",
       " 0.007813833549923821,\n",
       " -0.00739244965530883,\n",
       " -0.0031048636727382117,\n",
       " -0.015701311932072137,\n",
       " 0.006136082513265251,\n",
       " -0.0019863629816327943,\n",
       " -0.0008678622905353706,\n",
       " -0.004729352771716044,\n",
       " -0.0012939577919119927,\n",
       " 0.0025142707515861673,\n",
       " 0.0012093532786803252,\n",
       " -0.00046839775799334404,\n",
       " -0.0024124584830094165,\n",
       " 0.020756484404125253,\n",
       " -0.003744006924804033,\n",
       " -0.013304524736851064,\n",
       " -0.004489674052210901,\n",
       " -0.002945077859705769,\n",
       " 0.0009963055279822441,\n",
       " -0.005554912805632917,\n",
       " -0.007312556748798826,\n",
       " -0.004862507615920109,\n",
       " -0.0011608029477265802,\n",
       " -0.009602820068678852,\n",
       " -0.0032646494857679897,\n",
       " -0.0031314946415772482,\n",
       " -0.008937045847781988,\n",
       " 0.0006501029331245078,\n",
       " -0.009949022663520601,\n",
       " 0.0001973764628822039,\n",
       " -0.0009477551970444864,\n",
       " 0.011382383373950589,\n",
       " 0.00025063840056827047,\n",
       " 0.007547523861576977,\n",
       " -0.005661436680979293,\n",
       " 0.010397037527014596,\n",
       " -0.0017200532932672985,\n",
       " 0.0027539494710966395,\n",
       " -0.01213276210809422,\n",
       " 0.014817778353757305,\n",
       " -0.01373062023822591,\n",
       " 0.008612762615011427,\n",
       " -0.01647361002830383,\n",
       " 0.0008897816526296509,\n",
       " -0.0067266754344137425,\n",
       " 0.0038191882245621755,\n",
       " 0.021102686998998976,\n",
       " 0.006136082513281238,\n",
       " 0.007627416768076323,\n",
       " -0.008404426471072313,\n",
       " 0.009571477493102165,\n",
       " 0.03220780100355203,\n",
       " 0.00376592628689032,\n",
       " -0.008883783910121679,\n",
       " -0.007126139966954881,\n",
       " -0.0027320301090485444,\n",
       " -0.002119517825813766,\n",
       " -0.0028918159220596706,\n",
       " 0.0066420709211696405,\n",
       " 0.0043784385700949,\n",
       " -0.004542935989872987,\n",
       " -0.014103453801935117,\n",
       " -0.008431057439898915,\n",
       " -0.0052353411795973415,\n",
       " 0.012287836314354372,\n",
       " -0.0009211242282187726,\n",
       " -0.0003352429138194779,\n",
       " -0.017991575251965486,\n",
       " -0.005688067649796125,\n",
       " 0.007600785799256826,\n",
       " 0.004804534071474187,\n",
       " -0.02339766192564241,\n",
       " 0.0021414371879098226,\n",
       " -0.0037706378936235296,\n",
       " -0.0014803745737390628,\n",
       " -0.002412458483022739,\n",
       " -0.003024970766244195,\n",
       " -0.008031592907358664,\n",
       " -0.010641427853283147,\n",
       " -0.013357786674541572,\n",
       " 0.007414369017404887,\n",
       " -0.008963676816630795,\n",
       " 0.014098742195177927,\n",
       " 0.0003039003382356853,\n",
       " 0.0013425081228364277,\n",
       " 0.00017074549405737827,\n",
       " -0.0030249707662415304,\n",
       " 0.0008098887461258641,\n",
       " -0.006513627683714773,\n",
       " -0.002891815922052565,\n",
       " -0.011546880793688707,\n",
       " -0.010801213666288945,\n",
       " 0.01148890724928009,\n",
       " -0.014929013835840443,\n",
       " -0.009549558130987457,\n",
       " 0.010343775589332083,\n",
       " -0.0011608029477345738,\n",
       " -0.0062473179953741464,\n",
       " -0.011147416261172438,\n",
       " -0.008644105190591667,\n",
       " 0.00467137922731542,\n",
       " -9.556419429745944e-05,\n",
       " 0.006588808983488903,\n",
       " 0.00030390033822058626,\n",
       " 0.0030735210971650773,\n",
       " -0.0006015526021894146,\n",
       " -0.005128817304266953,\n",
       " -0.0014803745737665963,\n",
       " 0.007094797391387964,\n",
       " 0.01239436018969009,\n",
       " -0.0004950287268439268,\n",
       " 0.00930516780476598,\n",
       " 0.0028072114088013578,\n",
       " -0.010295225258404983,\n",
       " 0.009731263306111515,\n",
       " -0.01138709498068824,\n",
       " -0.00907020069196296,\n",
       " 0.00991768008795102,\n",
       " -0.008351164533381805,\n",
       " 0.011435645311608233,\n",
       " 0.0038458191934047647,\n",
       " -0.01069468979095145,\n",
       " -0.012452333734101373,\n",
       " -0.009256617473822892,\n",
       " 0.028186524709332694,\n",
       " 0.006695332858840608,\n",
       " 0.00938506071122358,\n",
       " -0.002146148794651914,\n",
       " -0.004090209519659993,\n",
       " -0.010135439445394745,\n",
       " -0.008031592907364882,\n",
       " 0.0027539494711259493,\n",
       " 0.005949665731416864,\n",
       " -0.0031314946415772482,\n",
       " 0.004431700507796954,\n",
       " -0.00656688962140084,\n",
       " 0.005949665731425746,\n",
       " 0.003739295318060165,\n",
       " 0.013379706036631411,\n",
       " ...]"
      ]
     },
     "execution_count": 42,
     "metadata": {},
     "output_type": "execute_result"
    }
   ],
   "source": [
    "difference"
   ]
  },
  {
   "cell_type": "code",
   "execution_count": 43,
   "metadata": {
    "colab": {},
    "colab_type": "code",
    "id": "VlzpYTkYFcv_"
   },
   "outputs": [
    {
     "data": {
      "image/png": "[encoded data removed]",
      "text/plain": [
       "<Figure size 432x288 with 1 Axes>"
      ]
     },
     "metadata": {
      "needs_background": "light"
     },
     "output_type": "display_data"
    }
   ],
   "source": [
    "# Make a variable called 'histo', and assign to it the result of plotting a histogram of the difference list. \n",
    "histo =plt.hist(difference)"
   ]
  },
  {
   "cell_type": "code",
   "execution_count": 37,
   "metadata": {
    "colab": {},
    "colab_type": "code",
    "id": "KhqgDFd3FcwB"
   },
   "outputs": [
    {
     "name": "stdout",
     "output_type": "stream",
     "text": [
      "0.14206054745123442\n"
     ]
    }
   ],
   "source": [
    "# Now make a variable called obs_difference, and assign it the result of the mean of our 'apple' variable and the mean of our 'google variable'\n",
    "obs_difference = apple.mean()- google.mean()\n",
    "\n",
    "# Make this difference absolute with the built-in abs() function. \n",
    "obs_difference =abs(obs_difference)\n",
    "\n",
    "# Print out this value; it should be 0.1420605474512291. \n",
    "print(obs_difference)"
   ]
  },
  {
   "cell_type": "markdown",
   "metadata": {
    "colab_type": "text",
    "id": "QUNuuSgDFcwE"
   },
   "source": [
    "## Stage 4 -  Evaluating and concluding\n",
    "### 4a. What is our conclusion?"
   ]
  },
  {
   "cell_type": "code",
   "execution_count": null,
   "metadata": {
    "colab": {},
    "colab_type": "code",
    "id": "XMQHnqx1FcwF"
   },
   "outputs": [],
   "source": [
    "'''\n",
    "What do we know? \n",
    "\n",
    "Recall: The p-value of our observed data is just the proportion of the data given the null that's at least as extreme as that observed data.\n",
    "\n",
    "As a result, we're going to count how many of the differences in our difference list are at least as extreme as our observed difference.\n",
    "\n",
    "If less than or equal to 5% of them are, then we will reject the Null. \n",
    "'''\n",
    "# The conclusion is that there is different between two platfroms about rating, because the vaule of 0.14206 locates extremmely right\n",
    "# on above histogram and the p-value approximately equals to 0."
   ]
  },
  {
   "cell_type": "markdown",
   "metadata": {
    "colab_type": "text",
    "id": "4RTofY9wFcwI"
   },
   "source": [
    "### 4b. What is our decision?\n",
    "So actually, zero differences are at least as extreme as our observed difference!\n",
    "\n",
    "So the p-value of our observed data is 0. \n",
    "\n",
    "It doesn't matter which significance level we pick; our observed data is statistically significant, and we reject the Null.\n",
    "\n",
    "We conclude that platform does impact on ratings. Specifically, we should advise our client to integrate **only Google Play** into their operating system interface. "
   ]
  },
  {
   "cell_type": "markdown",
   "metadata": {
    "colab_type": "text",
    "id": "Cu_eh7fTFcwJ"
   },
   "source": [
    "### 4c. Other statistical tests, and next steps\n",
    "The test we used here is the Permutation test. This was appropriate because our data were not normally distributed! \n",
    "\n",
    "As we've seen in Professor Spiegelhalter's book, there are actually many different statistical tests, all with different assumptions. How many of these different statistical tests can you remember? How much do you remember about what the appropriate conditions are under which to use them? \n",
    "\n",
    "Make a note of your answers to these questions, and discuss them with your mentor at your next call. \n"
   ]
  }
 ],
 "metadata": {
  "colab": {
   "collapsed_sections": [
    "5fbRq2MZFcvq",
    "4RTofY9wFcwI",
    "Cu_eh7fTFcwJ"
   ],
   "name": "Springboard Apps project - Tier 3 - Complete.ipynb",
   "provenance": []
  },
  "kernelspec": {
   "display_name": "Python 3",
   "language": "python",
   "name": "python3"
  },
  "language_info": {
   "codemirror_mode": {
    "name": "ipython",
    "version": 3
   },
   "file_extension": ".py",
   "mimetype": "text/x-python",
   "name": "python",
   "nbconvert_exporter": "python",
   "pygments_lexer": "ipython3",
   "version": "3.8.5"
  }
 },
 "nbformat": 4,
 "nbformat_minor": 1
}
