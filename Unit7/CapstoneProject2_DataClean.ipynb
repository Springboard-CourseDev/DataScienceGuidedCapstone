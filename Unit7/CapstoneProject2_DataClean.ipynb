{
 "cells": [
  {
   "cell_type": "markdown",
   "id": "willing-success",
   "metadata": {},
   "source": [
    "import data from source\n",
    "import Pandas\n",
    "Import CSV file "
   ]
  },
  {
   "cell_type": "code",
   "execution_count": 14,
   "id": "decreased-bible",
   "metadata": {},
   "outputs": [],
   "source": [
    "##import pandas\n",
    "import pandas as pd\n",
    "\n",
    "##import inforamtion for world back of population\n",
    "#with open(r'D:\\springboard\\DataScienceGuidedCapstone\\Unit7\\DataCapstoneProject2\\data_worldbank_population.csv') as birthratecsvfile:\n",
    "    birthrate = pd.read_csv('D:\\springboard\\DataScienceGuidedCapstone\\Unit7\\DataCapstoneProject2\\data_worldbank_population.csv')"
   ]
  },
  {
   "cell_type": "code",
   "execution_count": null,
   "id": "purple-cement",
   "metadata": {},
   "outputs": [],
   "source": []
  },
  {
   "cell_type": "code",
   "execution_count": 13,
   "id": "higher-bottom",
   "metadata": {},
   "outputs": [
    {
     "name": "stdout",
     "output_type": "stream",
     "text": [
      "           Country Name Country Code       1960  1961  1962  1963  1964  1965  \\\n",
      "0                 Aruba          ABW        NaN   NaN   NaN   NaN   NaN   NaN   \n",
      "1           Afghanistan          AFG        NaN   NaN   NaN   NaN   NaN   NaN   \n",
      "2                Angola          AGO  47.799999   NaN   NaN   NaN   NaN   NaN   \n",
      "3               Albania          ALB        NaN   NaN   NaN   NaN   NaN   NaN   \n",
      "4               Andorra          AND        NaN   NaN   NaN   NaN   NaN   NaN   \n",
      "5            Arab World          ARB        NaN   NaN   NaN   NaN   NaN   NaN   \n",
      "6  United Arab Emirates          ARE        NaN   NaN   NaN   NaN   NaN   NaN   \n",
      "7             Argentina          ARG  58.419998   NaN   NaN   NaN   NaN   NaN   \n",
      "8               Armenia          ARM        NaN   NaN   NaN   NaN   NaN   NaN   \n",
      "9        American Samoa          ASM  39.360001   NaN   NaN   NaN   NaN   NaN   \n",
      "\n",
      "   1966  1967  ...       2011       2012       2013       2014       2015  \\\n",
      "0   NaN   NaN  ...        NaN        NaN        NaN        NaN        NaN   \n",
      "1   NaN   NaN  ...        NaN  38.772598        NaN  48.458801        NaN   \n",
      "2   NaN   NaN  ...  57.634102        NaN        NaN  36.380001        NaN   \n",
      "3   NaN   NaN  ...  44.102100  36.213902  27.569401  28.957500  31.298800   \n",
      "4   NaN   NaN  ...        NaN        NaN        NaN        NaN        NaN   \n",
      "5   NaN   NaN  ...        NaN        NaN        NaN  29.512639        NaN   \n",
      "6   NaN   NaN  ...        NaN        NaN        NaN        NaN        NaN   \n",
      "7   NaN   NaN  ...  40.916599  40.521702  40.101299  38.602699        NaN   \n",
      "8   NaN   NaN  ...  39.395199  32.607700  39.680099  37.574100  39.471001   \n",
      "9   NaN   NaN  ...        NaN        NaN        NaN        NaN        NaN   \n",
      "\n",
      "        2016       2017       2018       2019  2020  \n",
      "0        NaN        NaN        NaN        NaN   NaN  \n",
      "1        NaN  39.264599        NaN        NaN   NaN  \n",
      "2        NaN        NaN        NaN        NaN   NaN  \n",
      "3  31.648399  31.614700  35.686001  36.592098   NaN  \n",
      "4        NaN        NaN        NaN        NaN   NaN  \n",
      "5        NaN        NaN        NaN        NaN   NaN  \n",
      "6        NaN  52.846901  50.827400  49.154400   NaN  \n",
      "7        NaN  38.955601  39.406101  39.004200   NaN  \n",
      "8  34.652100  35.117901  35.615898        NaN   NaN  \n",
      "9        NaN        NaN        NaN        NaN   NaN  \n",
      "\n",
      "[10 rows x 63 columns]\n"
     ]
    }
   ],
   "source": [
    "print(df.head(10))"
   ]
  },
  {
   "cell_type": "code",
   "execution_count": null,
   "id": "standing-territory",
   "metadata": {},
   "outputs": [],
   "source": [
    "##next create variable to only import data for Japan and United states and drop other data\n",
    "birthJAPANandUS = df['Country Name']"
   ]
  },
  {
   "cell_type": "code",
   "execution_count": null,
   "id": "charming-rendering",
   "metadata": {},
   "outputs": [],
   "source": []
  }
 ],
 "metadata": {
  "kernelspec": {
   "display_name": "Python 3",
   "language": "python",
   "name": "python3"
  },
  "language_info": {
   "codemirror_mode": {
    "name": "ipython",
    "version": 3
   },
   "file_extension": ".py",
   "mimetype": "text/x-python",
   "name": "python",
   "nbconvert_exporter": "python",
   "pygments_lexer": "ipython3",
   "version": "3.8.5"
  }
 },
 "nbformat": 4,
 "nbformat_minor": 5
}
