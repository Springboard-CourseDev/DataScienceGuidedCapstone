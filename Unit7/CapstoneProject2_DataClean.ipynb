{
 "cells": [
  {
   "cell_type": "markdown",
   "id": "willing-success",
   "metadata": {},
   "source": [
    "import data from source\n",
    "import Pandas\n",
    "Import CSV file "
   ]
  },
  {
   "cell_type": "code",
   "execution_count": 5,
   "id": "decreased-bible",
   "metadata": {},
   "outputs": [],
   "source": [
    "##import pandas\n",
    "import pandas as pd\n",
    "\n",
    "##import inforamtion for world back of population\n",
    "#with open(r'D:\\springboard\\DataScienceGuidedCapstone\\Unit7\\DataCapstoneProject2\\data_worldbank_population.csv') as birthratecsvfile:\n",
    "LabourRate = pd.read_csv(r'D:\\springboard\\DataScienceGuidedCapstone\\Unit7\\DataCapstoneProject2\\data_labour16_64_worldbank_population.csv')"
   ]
  },
  {
   "cell_type": "code",
   "execution_count": 6,
   "id": "destroyed-chair",
   "metadata": {},
   "outputs": [
    {
     "name": "stdout",
     "output_type": "stream",
     "text": [
      "<class 'pandas.core.frame.DataFrame'>\n",
      "RangeIndex: 264 entries, 0 to 263\n",
      "Data columns (total 63 columns):\n",
      " #   Column        Non-Null Count  Dtype  \n",
      "---  ------        --------------  -----  \n",
      " 0   Country Name  264 non-null    object \n",
      " 1   Country Code  264 non-null    object \n",
      " 2   1960          44 non-null     float64\n",
      " 3   1961          19 non-null     float64\n",
      " 4   1962          9 non-null      float64\n",
      " 5   1963          9 non-null      float64\n",
      " 6   1964          6 non-null      float64\n",
      " 7   1965          7 non-null      float64\n",
      " 8   1966          19 non-null     float64\n",
      " 9   1967          2 non-null      float64\n",
      " 10  1968          4 non-null      float64\n",
      " 11  1969          4 non-null      float64\n",
      " 12  1970          47 non-null     float64\n",
      " 13  1971          28 non-null     float64\n",
      " 14  1972          8 non-null      float64\n",
      " 15  1973          10 non-null     float64\n",
      " 16  1974          12 non-null     float64\n",
      " 17  1975          25 non-null     float64\n",
      " 18  1976          30 non-null     float64\n",
      " 19  1977          24 non-null     float64\n",
      " 20  1978          25 non-null     float64\n",
      " 21  1979          37 non-null     float64\n",
      " 22  1980          68 non-null     float64\n",
      " 23  1981          54 non-null     float64\n",
      " 24  1982          42 non-null     float64\n",
      " 25  1983          52 non-null     float64\n",
      " 26  1984          44 non-null     float64\n",
      " 27  1985          56 non-null     float64\n",
      " 28  1986          56 non-null     float64\n",
      " 29  1987          50 non-null     float64\n",
      " 30  1988          53 non-null     float64\n",
      " 31  1989          69 non-null     float64\n",
      " 32  1990          84 non-null     float64\n",
      " 33  1991          93 non-null     float64\n",
      " 34  1992          72 non-null     float64\n",
      " 35  1993          76 non-null     float64\n",
      " 36  1994          81 non-null     float64\n",
      " 37  1995          86 non-null     float64\n",
      " 38  1996          84 non-null     float64\n",
      " 39  1997          88 non-null     float64\n",
      " 40  1998          92 non-null     float64\n",
      " 41  1999          93 non-null     float64\n",
      " 42  2000          104 non-null    float64\n",
      " 43  2001          102 non-null    float64\n",
      " 44  2002          100 non-null    float64\n",
      " 45  2003          101 non-null    float64\n",
      " 46  2004          104 non-null    float64\n",
      " 47  2005          108 non-null    float64\n",
      " 48  2006          110 non-null    float64\n",
      " 49  2007          111 non-null    float64\n",
      " 50  2008          115 non-null    float64\n",
      " 51  2009          112 non-null    float64\n",
      " 52  2010          132 non-null    float64\n",
      " 53  2011          124 non-null    float64\n",
      " 54  2012          128 non-null    float64\n",
      " 55  2013          122 non-null    float64\n",
      " 56  2014          141 non-null    float64\n",
      " 57  2015          127 non-null    float64\n",
      " 58  2016          126 non-null    float64\n",
      " 59  2017          123 non-null    float64\n",
      " 60  2018          117 non-null    float64\n",
      " 61  2019          97 non-null     float64\n",
      " 62  2020          0 non-null      float64\n",
      "dtypes: float64(61), object(2)\n",
      "memory usage: 130.1+ KB\n"
     ]
    }
   ],
   "source": [
    "LabourRate.info()"
   ]
  },
  {
   "cell_type": "code",
   "execution_count": null,
   "id": "higher-bottom",
   "metadata": {},
   "outputs": [],
   "source": [
    "print(df.head(10))"
   ]
  },
  {
   "cell_type": "code",
   "execution_count": 2,
   "id": "artificial-fraction",
   "metadata": {},
   "outputs": [
    {
     "ename": "NameError",
     "evalue": "name 'df' is not defined",
     "output_type": "error",
     "traceback": [
      "\u001b[1;31m---------------------------------------------------------------------------\u001b[0m",
      "\u001b[1;31mNameError\u001b[0m                                 Traceback (most recent call last)",
      "\u001b[1;32m<ipython-input-2-bc4850402cc8>\u001b[0m in \u001b[0;36m<module>\u001b[1;34m\u001b[0m\n\u001b[0;32m      1\u001b[0m \u001b[1;31m##next create variable to only import data for Japan and United states and drop other data\u001b[0m\u001b[1;33m\u001b[0m\u001b[1;33m\u001b[0m\u001b[1;33m\u001b[0m\u001b[0m\n\u001b[1;32m----> 2\u001b[1;33m \u001b[0mbirthJAPANandUS\u001b[0m \u001b[1;33m=\u001b[0m \u001b[0mdf\u001b[0m\u001b[1;33m[\u001b[0m\u001b[1;34m'Country Name'\u001b[0m\u001b[1;33m]\u001b[0m\u001b[1;33m\u001b[0m\u001b[1;33m\u001b[0m\u001b[0m\n\u001b[0m",
      "\u001b[1;31mNameError\u001b[0m: name 'df' is not defined"
     ]
    }
   ],
   "source": []
  },
  {
   "cell_type": "code",
   "execution_count": null,
   "id": "charming-rendering",
   "metadata": {},
   "outputs": [],
   "source": []
  }
 ],
 "metadata": {
  "kernelspec": {
   "display_name": "Python 3",
   "language": "python",
   "name": "python3"
  },
  "language_info": {
   "codemirror_mode": {
    "name": "ipython",
    "version": 3
   },
   "file_extension": ".py",
   "mimetype": "text/x-python",
   "name": "python",
   "nbconvert_exporter": "python",
   "pygments_lexer": "ipython3",
   "version": "3.8.5"
  }
 },
 "nbformat": 4,
 "nbformat_minor": 5
}
