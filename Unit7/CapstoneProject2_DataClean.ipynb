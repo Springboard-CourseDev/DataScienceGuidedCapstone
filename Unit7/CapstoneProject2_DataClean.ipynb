{
 "cells": [
  {
   "cell_type": "markdown",
   "id": "willing-success",
   "metadata": {},
   "source": [
    "import data from source\n",
    "import Pandas\n",
    "Import CSV file "
   ]
  },
  {
   "cell_type": "code",
   "execution_count": 1,
   "id": "decreased-bible",
   "metadata": {},
   "outputs": [],
   "source": [
    "##import pandas\n",
    "import pandas as pd\n",
    "import matplotlib.pyplot as plt\n",
    "import seaborn as sns\n",
    "import numpy as np\n",
    "import os\n",
    "\n",
    "\n",
    "##import inforamtion for world back of population\n",
    "#with open(r'D:\\springboard\\DataScienceGuidedCapstone\\Unit7\\DataCapstoneProject2\\data_worldbank_population.csv') as birthratecsvfile:\n",
    "LaborRate = pd.read_csv(r'D:\\springboard\\DataScienceGuidedCapstone\\Unit7\\DataCapstoneProject2\\AllLabour_1960_2020.csv',header=0)"
   ]
  },
  {
   "cell_type": "code",
   "execution_count": null,
   "id": "middle-significance",
   "metadata": {},
   "outputs": [],
   "source": [
    "#verify columns names and type of object\n",
    "#LaborRate.info()"
   ]
  },
  {
   "cell_type": "code",
   "execution_count": null,
   "id": "median-romania",
   "metadata": {},
   "outputs": [],
   "source": [
    "#Validate if there are duplicate country name and country code.  There does not seem to be any duplicate.\n",
    "#LaborRate[['CountryName','CountryCode']].nunique()"
   ]
  },
  {
   "cell_type": "code",
   "execution_count": null,
   "id": "higher-bottom",
   "metadata": {},
   "outputs": [],
   "source": [
    "#view data and see a lot of NaN, and notice the number XX.XX is actually in millions\n",
    "#LaborRate.head(25)"
   ]
  },
  {
   "cell_type": "code",
   "execution_count": 2,
   "id": "polished-professional",
   "metadata": {},
   "outputs": [
    {
     "data": {
      "text/html": [
       "<div>\n",
       "<style scoped>\n",
       "    .dataframe tbody tr th:only-of-type {\n",
       "        vertical-align: middle;\n",
       "    }\n",
       "\n",
       "    .dataframe tbody tr th {\n",
       "        vertical-align: top;\n",
       "    }\n",
       "\n",
       "    .dataframe thead th {\n",
       "        text-align: right;\n",
       "    }\n",
       "</style>\n",
       "<table border=\"1\" class=\"dataframe\">\n",
       "  <thead>\n",
       "    <tr style=\"text-align: right;\">\n",
       "      <th></th>\n",
       "      <th>CountryName</th>\n",
       "      <th>CountryCode</th>\n",
       "      <th>1960</th>\n",
       "      <th>1961</th>\n",
       "      <th>1962</th>\n",
       "      <th>1963</th>\n",
       "      <th>1964</th>\n",
       "      <th>1965</th>\n",
       "      <th>1966</th>\n",
       "      <th>1967</th>\n",
       "      <th>...</th>\n",
       "      <th>2011</th>\n",
       "      <th>2012</th>\n",
       "      <th>2013</th>\n",
       "      <th>2014</th>\n",
       "      <th>2015</th>\n",
       "      <th>2016</th>\n",
       "      <th>2017</th>\n",
       "      <th>2018</th>\n",
       "      <th>2019</th>\n",
       "      <th>2020</th>\n",
       "    </tr>\n",
       "  </thead>\n",
       "  <tbody>\n",
       "    <tr>\n",
       "      <th>117</th>\n",
       "      <td>Japan</td>\n",
       "      <td>JPN</td>\n",
       "      <td>NaN</td>\n",
       "      <td>NaN</td>\n",
       "      <td>NaN</td>\n",
       "      <td>NaN</td>\n",
       "      <td>NaN</td>\n",
       "      <td>NaN</td>\n",
       "      <td>NaN</td>\n",
       "      <td>NaN</td>\n",
       "      <td>...</td>\n",
       "      <td>42.560001</td>\n",
       "      <td>41.900002</td>\n",
       "      <td>42.599998</td>\n",
       "      <td>43.000000</td>\n",
       "      <td>43.0000</td>\n",
       "      <td>44.799999</td>\n",
       "      <td>44.599998</td>\n",
       "      <td>47.599998</td>\n",
       "      <td>49.299999</td>\n",
       "      <td>NaN</td>\n",
       "    </tr>\n",
       "    <tr>\n",
       "      <th>249</th>\n",
       "      <td>United States</td>\n",
       "      <td>USA</td>\n",
       "      <td>56.400002</td>\n",
       "      <td>56.299999</td>\n",
       "      <td>55.799999</td>\n",
       "      <td>55.200001</td>\n",
       "      <td>55.299999</td>\n",
       "      <td>55.799999</td>\n",
       "      <td>57.099998</td>\n",
       "      <td>57.700001</td>\n",
       "      <td>...</td>\n",
       "      <td>54.968899</td>\n",
       "      <td>55.816101</td>\n",
       "      <td>55.049599</td>\n",
       "      <td>55.007801</td>\n",
       "      <td>54.9963</td>\n",
       "      <td>55.164902</td>\n",
       "      <td>55.466400</td>\n",
       "      <td>55.215599</td>\n",
       "      <td>55.876400</td>\n",
       "      <td>NaN</td>\n",
       "    </tr>\n",
       "  </tbody>\n",
       "</table>\n",
       "<p>2 rows × 63 columns</p>\n",
       "</div>"
      ],
      "text/plain": [
       "       CountryName CountryCode       1960       1961       1962       1963  \\\n",
       "117          Japan         JPN        NaN        NaN        NaN        NaN   \n",
       "249  United States         USA  56.400002  56.299999  55.799999  55.200001   \n",
       "\n",
       "          1964       1965       1966       1967  ...       2011       2012  \\\n",
       "117        NaN        NaN        NaN        NaN  ...  42.560001  41.900002   \n",
       "249  55.299999  55.799999  57.099998  57.700001  ...  54.968899  55.816101   \n",
       "\n",
       "          2013       2014     2015       2016       2017       2018  \\\n",
       "117  42.599998  43.000000  43.0000  44.799999  44.599998  47.599998   \n",
       "249  55.049599  55.007801  54.9963  55.164902  55.466400  55.215599   \n",
       "\n",
       "          2019  2020  \n",
       "117  49.299999   NaN  \n",
       "249  55.876400   NaN  \n",
       "\n",
       "[2 rows x 63 columns]"
      ]
     },
     "execution_count": 2,
     "metadata": {},
     "output_type": "execute_result"
    }
   ],
   "source": [
    "#create new df to move data for japan and United states into\n",
    "LaborRate2 = LaborRate.loc[LaborRate['CountryName'].isin(['Japan','United States'])]\n",
    "LaborRate2"
   ]
  },
  {
   "cell_type": "code",
   "execution_count": 3,
   "id": "charming-rendering",
   "metadata": {},
   "outputs": [
    {
     "data": {
      "text/plain": [
       "Index(['CountryName', 'CountryCode', '1960', '1961', '1962', '1963', '1964',\n",
       "       '1965', '1966', '1967', '1968', '1969', '1970', '1971', '1972', '1973',\n",
       "       '1974', '1975', '1976', '1977', '1978', '1979', '1980', '1981', '1982',\n",
       "       '1983', '1984', '1985', '1986', '1987', '1988', '1989', '1990', '1991',\n",
       "       '1992', '1993', '1994', '1995', '1996', '1997', '1998', '1999', '2000',\n",
       "       '2001', '2002', '2003', '2004', '2005', '2006', '2007', '2008', '2009',\n",
       "       '2010', '2011', '2012', '2013', '2014', '2015', '2016', '2017', '2018',\n",
       "       '2019', '2020'],\n",
       "      dtype='object')"
      ]
     },
     "execution_count": 3,
     "metadata": {},
     "output_type": "execute_result"
    }
   ],
   "source": [
    "LaborRate2.columns"
   ]
  },
  {
   "cell_type": "code",
   "execution_count": 4,
   "id": "sensitive-riverside",
   "metadata": {},
   "outputs": [
    {
     "data": {
      "text/html": [
       "<div>\n",
       "<style scoped>\n",
       "    .dataframe tbody tr th:only-of-type {\n",
       "        vertical-align: middle;\n",
       "    }\n",
       "\n",
       "    .dataframe tbody tr th {\n",
       "        vertical-align: top;\n",
       "    }\n",
       "\n",
       "    .dataframe thead th {\n",
       "        text-align: right;\n",
       "    }\n",
       "</style>\n",
       "<table border=\"1\" class=\"dataframe\">\n",
       "  <thead>\n",
       "    <tr style=\"text-align: right;\">\n",
       "      <th></th>\n",
       "      <th>CountryName</th>\n",
       "      <th>1960</th>\n",
       "      <th>1961</th>\n",
       "      <th>1962</th>\n",
       "      <th>1963</th>\n",
       "      <th>1964</th>\n",
       "      <th>1965</th>\n",
       "      <th>1966</th>\n",
       "      <th>1967</th>\n",
       "      <th>1968</th>\n",
       "      <th>...</th>\n",
       "      <th>2011</th>\n",
       "      <th>2012</th>\n",
       "      <th>2013</th>\n",
       "      <th>2014</th>\n",
       "      <th>2015</th>\n",
       "      <th>2016</th>\n",
       "      <th>2017</th>\n",
       "      <th>2018</th>\n",
       "      <th>2019</th>\n",
       "      <th>2020</th>\n",
       "    </tr>\n",
       "  </thead>\n",
       "  <tbody>\n",
       "    <tr>\n",
       "      <th>117</th>\n",
       "      <td>Japan</td>\n",
       "      <td>NaN</td>\n",
       "      <td>NaN</td>\n",
       "      <td>NaN</td>\n",
       "      <td>NaN</td>\n",
       "      <td>NaN</td>\n",
       "      <td>NaN</td>\n",
       "      <td>NaN</td>\n",
       "      <td>NaN</td>\n",
       "      <td>55.799999</td>\n",
       "      <td>...</td>\n",
       "      <td>42.560001</td>\n",
       "      <td>41.900002</td>\n",
       "      <td>42.599998</td>\n",
       "      <td>43.000000</td>\n",
       "      <td>43.0000</td>\n",
       "      <td>44.799999</td>\n",
       "      <td>44.599998</td>\n",
       "      <td>47.599998</td>\n",
       "      <td>49.299999</td>\n",
       "      <td>NaN</td>\n",
       "    </tr>\n",
       "    <tr>\n",
       "      <th>249</th>\n",
       "      <td>United States</td>\n",
       "      <td>56.400002</td>\n",
       "      <td>56.299999</td>\n",
       "      <td>55.799999</td>\n",
       "      <td>55.200001</td>\n",
       "      <td>55.299999</td>\n",
       "      <td>55.799999</td>\n",
       "      <td>57.099998</td>\n",
       "      <td>57.700001</td>\n",
       "      <td>57.700001</td>\n",
       "      <td>...</td>\n",
       "      <td>54.968899</td>\n",
       "      <td>55.816101</td>\n",
       "      <td>55.049599</td>\n",
       "      <td>55.007801</td>\n",
       "      <td>54.9963</td>\n",
       "      <td>55.164902</td>\n",
       "      <td>55.466400</td>\n",
       "      <td>55.215599</td>\n",
       "      <td>55.876400</td>\n",
       "      <td>NaN</td>\n",
       "    </tr>\n",
       "  </tbody>\n",
       "</table>\n",
       "<p>2 rows × 62 columns</p>\n",
       "</div>"
      ],
      "text/plain": [
       "       CountryName       1960       1961       1962       1963       1964  \\\n",
       "117          Japan        NaN        NaN        NaN        NaN        NaN   \n",
       "249  United States  56.400002  56.299999  55.799999  55.200001  55.299999   \n",
       "\n",
       "          1965       1966       1967       1968  ...       2011       2012  \\\n",
       "117        NaN        NaN        NaN  55.799999  ...  42.560001  41.900002   \n",
       "249  55.799999  57.099998  57.700001  57.700001  ...  54.968899  55.816101   \n",
       "\n",
       "          2013       2014     2015       2016       2017       2018  \\\n",
       "117  42.599998  43.000000  43.0000  44.799999  44.599998  47.599998   \n",
       "249  55.049599  55.007801  54.9963  55.164902  55.466400  55.215599   \n",
       "\n",
       "          2019  2020  \n",
       "117  49.299999   NaN  \n",
       "249  55.876400   NaN  \n",
       "\n",
       "[2 rows x 62 columns]"
      ]
     },
     "execution_count": 4,
     "metadata": {},
     "output_type": "execute_result"
    }
   ],
   "source": [
    "#drop CountryCode column as it doesnt provide useful data\n",
    "LaborRate2= LaborRate2.drop(['CountryCode'],axis = 1)\n",
    "LaborRate2"
   ]
  },
  {
   "cell_type": "code",
   "execution_count": 5,
   "id": "functional-chorus",
   "metadata": {},
   "outputs": [],
   "source": [
    "LaborRate2.rename(columns={'CountryName':'Year'},inplace = True)"
   ]
  },
  {
   "cell_type": "code",
   "execution_count": 7,
   "id": "structured-accessory",
   "metadata": {},
   "outputs": [
    {
     "data": {
      "text/html": [
       "<div>\n",
       "<style scoped>\n",
       "    .dataframe tbody tr th:only-of-type {\n",
       "        vertical-align: middle;\n",
       "    }\n",
       "\n",
       "    .dataframe tbody tr th {\n",
       "        vertical-align: top;\n",
       "    }\n",
       "\n",
       "    .dataframe thead th {\n",
       "        text-align: right;\n",
       "    }\n",
       "</style>\n",
       "<table border=\"1\" class=\"dataframe\">\n",
       "  <thead>\n",
       "    <tr style=\"text-align: right;\">\n",
       "      <th></th>\n",
       "      <th>Year</th>\n",
       "      <th>1960</th>\n",
       "      <th>1961</th>\n",
       "      <th>1962</th>\n",
       "      <th>1963</th>\n",
       "      <th>1964</th>\n",
       "      <th>1965</th>\n",
       "      <th>1966</th>\n",
       "      <th>1967</th>\n",
       "      <th>1968</th>\n",
       "      <th>...</th>\n",
       "      <th>2011</th>\n",
       "      <th>2012</th>\n",
       "      <th>2013</th>\n",
       "      <th>2014</th>\n",
       "      <th>2015</th>\n",
       "      <th>2016</th>\n",
       "      <th>2017</th>\n",
       "      <th>2018</th>\n",
       "      <th>2019</th>\n",
       "      <th>2020</th>\n",
       "    </tr>\n",
       "  </thead>\n",
       "  <tbody>\n",
       "    <tr>\n",
       "      <th>117</th>\n",
       "      <td>Japan</td>\n",
       "      <td>NaN</td>\n",
       "      <td>NaN</td>\n",
       "      <td>NaN</td>\n",
       "      <td>NaN</td>\n",
       "      <td>NaN</td>\n",
       "      <td>NaN</td>\n",
       "      <td>NaN</td>\n",
       "      <td>NaN</td>\n",
       "      <td>55.799999</td>\n",
       "      <td>...</td>\n",
       "      <td>42.560001</td>\n",
       "      <td>41.900002</td>\n",
       "      <td>42.599998</td>\n",
       "      <td>43.000000</td>\n",
       "      <td>43.0000</td>\n",
       "      <td>44.799999</td>\n",
       "      <td>44.599998</td>\n",
       "      <td>47.599998</td>\n",
       "      <td>49.299999</td>\n",
       "      <td>NaN</td>\n",
       "    </tr>\n",
       "    <tr>\n",
       "      <th>249</th>\n",
       "      <td>United States</td>\n",
       "      <td>56.400002</td>\n",
       "      <td>56.299999</td>\n",
       "      <td>55.799999</td>\n",
       "      <td>55.200001</td>\n",
       "      <td>55.299999</td>\n",
       "      <td>55.799999</td>\n",
       "      <td>57.099998</td>\n",
       "      <td>57.700001</td>\n",
       "      <td>57.700001</td>\n",
       "      <td>...</td>\n",
       "      <td>54.968899</td>\n",
       "      <td>55.816101</td>\n",
       "      <td>55.049599</td>\n",
       "      <td>55.007801</td>\n",
       "      <td>54.9963</td>\n",
       "      <td>55.164902</td>\n",
       "      <td>55.466400</td>\n",
       "      <td>55.215599</td>\n",
       "      <td>55.876400</td>\n",
       "      <td>NaN</td>\n",
       "    </tr>\n",
       "  </tbody>\n",
       "</table>\n",
       "<p>2 rows × 62 columns</p>\n",
       "</div>"
      ],
      "text/plain": [
       "              Year       1960       1961       1962       1963       1964  \\\n",
       "117          Japan        NaN        NaN        NaN        NaN        NaN   \n",
       "249  United States  56.400002  56.299999  55.799999  55.200001  55.299999   \n",
       "\n",
       "          1965       1966       1967       1968  ...       2011       2012  \\\n",
       "117        NaN        NaN        NaN  55.799999  ...  42.560001  41.900002   \n",
       "249  55.799999  57.099998  57.700001  57.700001  ...  54.968899  55.816101   \n",
       "\n",
       "          2013       2014     2015       2016       2017       2018  \\\n",
       "117  42.599998  43.000000  43.0000  44.799999  44.599998  47.599998   \n",
       "249  55.049599  55.007801  54.9963  55.164902  55.466400  55.215599   \n",
       "\n",
       "          2019  2020  \n",
       "117  49.299999   NaN  \n",
       "249  55.876400   NaN  \n",
       "\n",
       "[2 rows x 62 columns]"
      ]
     },
     "execution_count": 7,
     "metadata": {},
     "output_type": "execute_result"
    }
   ],
   "source": [
    "LaborRate2"
   ]
  },
  {
   "cell_type": "code",
   "execution_count": 43,
   "id": "promising-sword",
   "metadata": {},
   "outputs": [
    {
     "data": {
      "text/html": [
       "<div>\n",
       "<style scoped>\n",
       "    .dataframe tbody tr th:only-of-type {\n",
       "        vertical-align: middle;\n",
       "    }\n",
       "\n",
       "    .dataframe tbody tr th {\n",
       "        vertical-align: top;\n",
       "    }\n",
       "\n",
       "    .dataframe thead th {\n",
       "        text-align: right;\n",
       "    }\n",
       "</style>\n",
       "<table border=\"1\" class=\"dataframe\">\n",
       "  <thead>\n",
       "    <tr style=\"text-align: right;\">\n",
       "      <th></th>\n",
       "      <th>117</th>\n",
       "      <th>249</th>\n",
       "    </tr>\n",
       "  </thead>\n",
       "  <tbody>\n",
       "    <tr>\n",
       "      <th>Year</th>\n",
       "      <td>Japan</td>\n",
       "      <td>United States</td>\n",
       "    </tr>\n",
       "    <tr>\n",
       "      <th>1960</th>\n",
       "      <td>NaN</td>\n",
       "      <td>56.400002</td>\n",
       "    </tr>\n",
       "    <tr>\n",
       "      <th>1961</th>\n",
       "      <td>NaN</td>\n",
       "      <td>56.299999</td>\n",
       "    </tr>\n",
       "    <tr>\n",
       "      <th>1962</th>\n",
       "      <td>NaN</td>\n",
       "      <td>55.799999</td>\n",
       "    </tr>\n",
       "    <tr>\n",
       "      <th>1963</th>\n",
       "      <td>NaN</td>\n",
       "      <td>55.200001</td>\n",
       "    </tr>\n",
       "    <tr>\n",
       "      <th>...</th>\n",
       "      <td>...</td>\n",
       "      <td>...</td>\n",
       "    </tr>\n",
       "    <tr>\n",
       "      <th>2016</th>\n",
       "      <td>44.799999</td>\n",
       "      <td>55.164902</td>\n",
       "    </tr>\n",
       "    <tr>\n",
       "      <th>2017</th>\n",
       "      <td>44.599998</td>\n",
       "      <td>55.4664</td>\n",
       "    </tr>\n",
       "    <tr>\n",
       "      <th>2018</th>\n",
       "      <td>47.599998</td>\n",
       "      <td>55.215599</td>\n",
       "    </tr>\n",
       "    <tr>\n",
       "      <th>2019</th>\n",
       "      <td>49.299999</td>\n",
       "      <td>55.8764</td>\n",
       "    </tr>\n",
       "    <tr>\n",
       "      <th>2020</th>\n",
       "      <td>NaN</td>\n",
       "      <td>NaN</td>\n",
       "    </tr>\n",
       "  </tbody>\n",
       "</table>\n",
       "<p>62 rows × 2 columns</p>\n",
       "</div>"
      ],
      "text/plain": [
       "            117            249\n",
       "Year      Japan  United States\n",
       "1960        NaN      56.400002\n",
       "1961        NaN      56.299999\n",
       "1962        NaN      55.799999\n",
       "1963        NaN      55.200001\n",
       "...         ...            ...\n",
       "2016  44.799999      55.164902\n",
       "2017  44.599998        55.4664\n",
       "2018  47.599998      55.215599\n",
       "2019  49.299999        55.8764\n",
       "2020        NaN            NaN\n",
       "\n",
       "[62 rows x 2 columns]"
      ]
     },
     "execution_count": 43,
     "metadata": {},
     "output_type": "execute_result"
    }
   ],
   "source": [
    "#Transpose axis for LaborRate2\n",
    "LaborRateT = LaborRate2.T\n",
    "LaborRateT"
   ]
  },
  {
   "cell_type": "code",
   "execution_count": 44,
   "id": "billion-liverpool",
   "metadata": {},
   "outputs": [
    {
     "data": {
      "text/plain": [
       "Int64Index([117, 249], dtype='int64')"
      ]
     },
     "execution_count": 44,
     "metadata": {},
     "output_type": "execute_result"
    }
   ],
   "source": [
    "#header is int64 and needs to be str\n",
    "\n",
    "LaborRateT.keys()"
   ]
  },
  {
   "cell_type": "code",
   "execution_count": 34,
   "id": "known-creativity",
   "metadata": {},
   "outputs": [],
   "source": [
    "# failed to change column header into str\n",
    "\n",
    "LaborRateT = LaborRateT.columns.astype(str)"
   ]
  },
  {
   "cell_type": "code",
   "execution_count": 42,
   "id": "palestinian-recipient",
   "metadata": {},
   "outputs": [
    {
     "data": {
      "text/plain": [
       "Index(['117', '249'], dtype='object')"
      ]
     },
     "execution_count": 42,
     "metadata": {},
     "output_type": "execute_result"
    }
   ],
   "source": [
    "LaborRateT\n",
    "\n"
   ]
  },
  {
   "cell_type": "code",
   "execution_count": null,
   "id": "future-doubt",
   "metadata": {},
   "outputs": [],
   "source": []
  },
  {
   "cell_type": "code",
   "execution_count": null,
   "id": "intermediate-begin",
   "metadata": {},
   "outputs": [],
   "source": [
    "LaborCol.info()\n"
   ]
  },
  {
   "cell_type": "code",
   "execution_count": null,
   "id": "recovered-customs",
   "metadata": {},
   "outputs": [],
   "source": [
    "LaborRateTT = LaborRateT.index"
   ]
  },
  {
   "cell_type": "code",
   "execution_count": null,
   "id": "worldwide-chair",
   "metadata": {},
   "outputs": [],
   "source": [
    "LaborRateTT"
   ]
  },
  {
   "cell_type": "code",
   "execution_count": null,
   "id": "radio-martial",
   "metadata": {},
   "outputs": [],
   "source": []
  },
  {
   "cell_type": "code",
   "execution_count": null,
   "id": "assigned-synthesis",
   "metadata": {},
   "outputs": [],
   "source": [
    "#flip x and y axis so each year is a row instead of column\n",
    "\n",
    "x = LaborRate2['CountryName'].iloc[0:3].values.axis =1\n",
    "print (x)\n",
    "plt.show(x)"
   ]
  },
  {
   "cell_type": "code",
   "execution_count": null,
   "id": "studied-faculty",
   "metadata": {},
   "outputs": [],
   "source": []
  }
 ],
 "metadata": {
  "kernelspec": {
   "display_name": "Python 3",
   "language": "python",
   "name": "python3"
  },
  "language_info": {
   "codemirror_mode": {
    "name": "ipython",
    "version": 3
   },
   "file_extension": ".py",
   "mimetype": "text/x-python",
   "name": "python",
   "nbconvert_exporter": "python",
   "pygments_lexer": "ipython3",
   "version": "3.8.5"
  }
 },
 "nbformat": 4,
 "nbformat_minor": 5
}
