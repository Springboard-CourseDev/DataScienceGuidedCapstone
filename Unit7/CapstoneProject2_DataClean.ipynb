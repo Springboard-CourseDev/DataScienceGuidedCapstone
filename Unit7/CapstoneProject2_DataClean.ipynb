{
 "cells": [
  {
   "cell_type": "markdown",
   "id": "willing-success",
   "metadata": {},
   "source": [
    "import data from source\n",
    "import Pandas\n",
    "Import CSV file "
   ]
  },
  {
   "cell_type": "code",
   "execution_count": 28,
   "id": "decreased-bible",
   "metadata": {},
   "outputs": [
    {
     "ename": "FileNotFoundError",
     "evalue": "[Errno 2] No such file or directory: '/DataScienceGuidedCapstone/Unit7/Data_CapstoneProject2/test1.csv'",
     "output_type": "error",
     "traceback": [
      "\u001b[1;31m---------------------------------------------------------------------------\u001b[0m",
      "\u001b[1;31mFileNotFoundError\u001b[0m                         Traceback (most recent call last)",
      "\u001b[1;32m<ipython-input-28-8a061fe949f9>\u001b[0m in \u001b[0;36m<module>\u001b[1;34m\u001b[0m\n\u001b[0;32m      1\u001b[0m \u001b[1;32mimport\u001b[0m \u001b[0mpandas\u001b[0m \u001b[1;32mas\u001b[0m \u001b[0mpd\u001b[0m\u001b[1;33m\u001b[0m\u001b[1;33m\u001b[0m\u001b[0m\n\u001b[0;32m      2\u001b[0m \u001b[1;32mimport\u001b[0m \u001b[0mcsv\u001b[0m\u001b[1;33m\u001b[0m\u001b[1;33m\u001b[0m\u001b[0m\n\u001b[1;32m----> 3\u001b[1;33m \u001b[1;32mwith\u001b[0m \u001b[0mopen\u001b[0m\u001b[1;33m(\u001b[0m\u001b[1;34m'/DataScienceGuidedCapstone/Unit7/Data_CapstoneProject2/test1.csv'\u001b[0m\u001b[1;33m)\u001b[0m \u001b[1;32mas\u001b[0m \u001b[0mbirthratecsvfile\u001b[0m\u001b[1;33m:\u001b[0m\u001b[1;33m\u001b[0m\u001b[1;33m\u001b[0m\u001b[0m\n\u001b[0m\u001b[0;32m      4\u001b[0m     \u001b[0mdf\u001b[0m \u001b[1;33m=\u001b[0m \u001b[0mpd\u001b[0m\u001b[1;33m.\u001b[0m\u001b[0mread_csv\u001b[0m\u001b[1;33m(\u001b[0m\u001b[0mbirthratecsvfile\u001b[0m\u001b[1;33m,\u001b[0m \u001b[0mdelimiter\u001b[0m\u001b[1;33m=\u001b[0m\u001b[1;34m','\u001b[0m\u001b[1;33m,\u001b[0m \u001b[0mheader\u001b[0m \u001b[1;33m=\u001b[0m\u001b[1;36m0\u001b[0m\u001b[1;33m)\u001b[0m\u001b[1;33m\u001b[0m\u001b[1;33m\u001b[0m\u001b[0m\n",
      "\u001b[1;31mFileNotFoundError\u001b[0m: [Errno 2] No such file or directory: '/DataScienceGuidedCapstone/Unit7/Data_CapstoneProject2/test1.csv'"
     ]
    }
   ],
   "source": [
    "import pandas as pd\n",
    "import csv\n",
    "with open('../DataScienceGuidedCapstone/Unit7/Data_CapstoneProject2/test1.csv') as birthratecsvfile:\n",
    "    df = pd.read_csv(birthratecsvfile, delimiter=',', header =0)"
   ]
  },
  {
   "cell_type": "code",
   "execution_count": 23,
   "id": "higher-bottom",
   "metadata": {},
   "outputs": [
    {
     "name": "stdout",
     "output_type": "stream",
     "text": [
      "  ï»¿Country Name Country Code       1960       1961       1962       1963  \\\n",
      "0           Aruba          ABW        NaN        NaN        NaN        NaN   \n",
      "1     Afghanistan          AFG        NaN        NaN        NaN        NaN   \n",
      "2          Angola          AGO  47.799999        NaN        NaN        NaN   \n",
      "3         Albania          ALB        NaN        NaN        NaN        NaN   \n",
      "4   United States          USA  56.400002  56.299999  55.799999  55.200001   \n",
      "\n",
      "        1964       1965       1966       1967  ...       2011       2012  \\\n",
      "0        NaN        NaN        NaN        NaN  ...        NaN        NaN   \n",
      "1        NaN        NaN        NaN        NaN  ...        NaN  38.772598   \n",
      "2        NaN        NaN        NaN        NaN  ...  57.634102        NaN   \n",
      "3        NaN        NaN        NaN        NaN  ...  44.102100  36.213902   \n",
      "4  55.299999  55.799999  57.099998  57.700001  ...  54.968899  55.816101   \n",
      "\n",
      "        2013       2014     2015       2016       2017       2018       2019  \\\n",
      "0        NaN        NaN      NaN        NaN        NaN        NaN        NaN   \n",
      "1        NaN  48.458801      NaN        NaN  39.264599        NaN        NaN   \n",
      "2        NaN  36.380001      NaN        NaN        NaN        NaN        NaN   \n",
      "3  27.569401  28.957500  31.2988  31.648399  31.614700  35.686001  36.592098   \n",
      "4  55.049599  55.007801  54.9963  55.164902  55.466400  55.215599  55.876400   \n",
      "\n",
      "   2020  \n",
      "0     0  \n",
      "1     0  \n",
      "2     0  \n",
      "3     0  \n",
      "4     0  \n",
      "\n",
      "[5 rows x 63 columns]\n"
     ]
    }
   ],
   "source": [
    "print(df.head(10))"
   ]
  },
  {
   "cell_type": "code",
   "execution_count": null,
   "id": "charming-rendering",
   "metadata": {},
   "outputs": [],
   "source": []
  }
 ],
 "metadata": {
  "kernelspec": {
   "display_name": "Python 3",
   "language": "python",
   "name": "python3"
  },
  "language_info": {
   "codemirror_mode": {
    "name": "ipython",
    "version": 3
   },
   "file_extension": ".py",
   "mimetype": "text/x-python",
   "name": "python",
   "nbconvert_exporter": "python",
   "pygments_lexer": "ipython3",
   "version": "3.8.5"
  }
 },
 "nbformat": 4,
 "nbformat_minor": 5
}
