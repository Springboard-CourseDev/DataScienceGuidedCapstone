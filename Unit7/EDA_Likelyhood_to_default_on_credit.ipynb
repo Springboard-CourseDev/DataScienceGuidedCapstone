{
 "cells": [
  {
   "cell_type": "code",
   "execution_count": null,
   "id": "anticipated-dryer",
   "metadata": {},
   "outputs": [],
   "source": [
    "#Task 1\n",
    "#import pandas\n",
    "import pandas as pd\n",
    "import matplotlib.pyplot as plt\n",
    "from matplotlib import rcParams\n",
    "import seaborn as sns\n",
    "import numpy as np\n",
    "import os\n",
    "import sklearn\n",
    "\n",
    "\n",
    "##import inforamtion from Kaggle \n",
    "CCLoan = pd.read_csv(r'D:\\springboard\\DataScienceGuidedCapstone\\Unit7\\DataCapstoneProject2\\ccFraudDefault\\application_data.csv',header=0)"
   ]
  }
 ],
 "metadata": {
  "kernelspec": {
   "display_name": "Python 3",
   "language": "python",
   "name": "python3"
  },
  "language_info": {
   "codemirror_mode": {
    "name": "ipython",
    "version": 3
   },
   "file_extension": ".py",
   "mimetype": "text/x-python",
   "name": "python",
   "nbconvert_exporter": "python",
   "pygments_lexer": "ipython3",
   "version": "3.8.5"
  }
 },
 "nbformat": 4,
 "nbformat_minor": 5
}
