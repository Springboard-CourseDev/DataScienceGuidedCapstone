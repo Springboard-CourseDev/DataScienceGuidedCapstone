{
 "cells": [
  {
   "cell_type": "code",
   "execution_count": 1,
   "id": "fourth-president",
   "metadata": {},
   "outputs": [],
   "source": [
    "#Task 1\n",
    "#import pandas\n",
    "import pandas as pd\n",
    "import matplotlib.pyplot as plt\n",
    "from matplotlib import rcParams\n",
    "import seaborn as sns\n",
    "import numpy as np\n",
    "import os\n",
    "import sklearn\n",
    "\n",
    "\n",
    "##import inforamtion from Kaggle \n",
    "CCLoan = pd.read_csv(r'D:\\springboard\\DataScienceGuidedCapstone\\Unit7\\DataCapstoneProject2\\ccFraudDefault\\application_data.csv',header=0)"
   ]
  },
  {
   "cell_type": "code",
   "execution_count": 2,
   "id": "wanted-liverpool",
   "metadata": {},
   "outputs": [],
   "source": [
    "#Task 2\n",
    "#rename certian column to be more readable\n",
    "CCLoan.rename(columns={'SK_ID_CURR':'CLIENTID','TARGET':'LATE_PAYMENT'},inplace = True)\n"
   ]
  },
  {
   "cell_type": "code",
   "execution_count": null,
   "id": "excellent-compatibility",
   "metadata": {},
   "outputs": [],
   "source": []
  },
  {
   "cell_type": "markdown",
   "id": "arranged-cherry",
   "metadata": {},
   "source": [
    "Task 5"
   ]
  },
  {
   "cell_type": "code",
   "execution_count": 3,
   "id": "respected-superior",
   "metadata": {},
   "outputs": [
    {
     "data": {
      "text/plain": [
       "array([270000., 513531., 808650.])"
      ]
     },
     "execution_count": 3,
     "metadata": {},
     "output_type": "execute_result"
    }
   ],
   "source": [
    "#Task 5.1\n",
    "#take a look what is 25%, 50% and 75% of credit of loan\n",
    "\n",
    "np.percentile(CCLoan['AMT_CREDIT'],[25,50,75])"
   ]
  },
  {
   "cell_type": "code",
   "execution_count": 4,
   "id": "grateful-chick",
   "metadata": {},
   "outputs": [
    {
     "data": {
      "text/plain": [
       "array([270000., 513531., 808650.])"
      ]
     },
     "execution_count": 4,
     "metadata": {},
     "output_type": "execute_result"
    }
   ],
   "source": [
    "#Task 5.2\n",
    "#take a look what is 25%, 50% and 75% of credit of loan\n",
    "\n",
    "np.percentile(CCLoan['AMT_CREDIT'],[25,50,75])"
   ]
  },
  {
   "cell_type": "code",
   "execution_count": 5,
   "id": "advised-going",
   "metadata": {},
   "outputs": [
    {
     "data": {
      "text/plain": [
       "array([270000., 513531., 808650.])"
      ]
     },
     "execution_count": 5,
     "metadata": {},
     "output_type": "execute_result"
    }
   ],
   "source": [
    "#Task 5.3\n",
    "#take a look what is 25%, 50% and 75% of credit of loan\n",
    "\n",
    "np.percentile(CCLoan['AMT_CREDIT'],[25,50,75])"
   ]
  },
  {
   "cell_type": "code",
   "execution_count": null,
   "id": "expected-savage",
   "metadata": {},
   "outputs": [],
   "source": []
  },
  {
   "cell_type": "code",
   "execution_count": null,
   "id": "indian-representation",
   "metadata": {},
   "outputs": [],
   "source": []
  },
  {
   "cell_type": "code",
   "execution_count": null,
   "id": "nutritional-chess",
   "metadata": {},
   "outputs": [],
   "source": []
  },
  {
   "cell_type": "code",
   "execution_count": null,
   "id": "supported-specific",
   "metadata": {},
   "outputs": [],
   "source": []
  },
  {
   "cell_type": "code",
   "execution_count": null,
   "id": "frank-specific",
   "metadata": {},
   "outputs": [],
   "source": []
  },
  {
   "cell_type": "code",
   "execution_count": null,
   "id": "tutorial-cosmetic",
   "metadata": {},
   "outputs": [],
   "source": []
  },
  {
   "cell_type": "code",
   "execution_count": null,
   "id": "pharmaceutical-renewal",
   "metadata": {},
   "outputs": [],
   "source": [
    "sns.pairplot(CCLoan)"
   ]
  },
  {
   "cell_type": "code",
   "execution_count": null,
   "id": "stable-utility",
   "metadata": {},
   "outputs": [],
   "source": []
  },
  {
   "cell_type": "markdown",
   "id": "following-pregnancy",
   "metadata": {},
   "source": [
    "#Task 10\n",
    "it just runs and didnt graphy\n",
    "#test graph swarm plot\n",
    "sns.swarmplot(y='LATE_PAYMENT', x ='NAME_CONTRACT_TYPE', data=CCLoan)\n",
    "plt.xlabel('Type of Loan')\n",
    "plt.ylabel('Late Payment')\n",
    "plt.show()"
   ]
  },
  {
   "cell_type": "code",
   "execution_count": null,
   "id": "reasonable-singer",
   "metadata": {},
   "outputs": [],
   "source": []
  }
 ],
 "metadata": {
  "kernelspec": {
   "display_name": "Python 3",
   "language": "python",
   "name": "python3"
  },
  "language_info": {
   "codemirror_mode": {
    "name": "ipython",
    "version": 3
   },
   "file_extension": ".py",
   "mimetype": "text/x-python",
   "name": "python",
   "nbconvert_exporter": "python",
   "pygments_lexer": "ipython3",
   "version": "3.8.5"
  }
 },
 "nbformat": 4,
 "nbformat_minor": 5
}
