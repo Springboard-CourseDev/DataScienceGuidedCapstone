{
 "cells": [
  {
   "cell_type": "code",
   "execution_count": null,
   "id": "chubby-ready",
   "metadata": {},
   "outputs": [],
   "source": [
    "data visualizqation\n",
    "statistical graphing"
   ]
  },
  {
   "cell_type": "code",
   "execution_count": null,
   "id": "fourth-president",
   "metadata": {},
   "outputs": [],
   "source": [
    "#Task 1\n",
    "#import pandas\n",
    "import pandas as pd\n",
    "import matplotlib.pyplot as plt\n",
    "from matplotlib import rcParams\n",
    "import seaborn as sns\n",
    "import numpy as np\n",
    "import os\n",
    "import sklearn\n",
    "\n",
    "\n",
    "##import inforamtion from cleaned data from previous Capstone 2\n",
    "CCLoan = pd.read_csv(r'D:\\springboard\\DataScienceGuidedCapstone\\Unit7\\DataCapstoneProject2\\ccFraudDefault\\Cleaned_app_data_ver3.csv',header=0)"
   ]
  },
  {
   "cell_type": "code",
   "execution_count": null,
   "id": "documented-piece",
   "metadata": {},
   "outputs": [],
   "source": [
    "#Task 2.0\n",
    "CCLoan.info()\n"
   ]
  },
  {
   "cell_type": "code",
   "execution_count": null,
   "id": "wanted-liverpool",
   "metadata": {},
   "outputs": [],
   "source": [
    "#Task 2.1\n",
    "#describe the cleaned data\n",
    "\n",
    "CCLoan.describe()\n",
    "\n",
    "\n"
   ]
  },
  {
   "cell_type": "code",
   "execution_count": null,
   "id": "congressional-trace",
   "metadata": {},
   "outputs": [],
   "source": [
    "CCLoan.head(10)"
   ]
  },
  {
   "cell_type": "code",
   "execution_count": null,
   "id": "affected-feelings",
   "metadata": {},
   "outputs": [],
   "source": [
    "CCLoan.drop('Unnamed: 0',inplace=True, axis=1)"
   ]
  },
  {
   "cell_type": "code",
   "execution_count": null,
   "id": "informative-stations",
   "metadata": {},
   "outputs": [],
   "source": [
    "CCLoan.head(10)"
   ]
  },
  {
   "cell_type": "code",
   "execution_count": null,
   "id": "pharmaceutical-replica",
   "metadata": {},
   "outputs": [],
   "source": [
    "CCLoan.info()"
   ]
  },
  {
   "cell_type": "markdown",
   "id": "infinite-perry",
   "metadata": {},
   "source": [
    "After data was clean we only have 50 columns to graph and find patterns in\n"
   ]
  },
  {
   "cell_type": "code",
   "execution_count": null,
   "id": "invalid-appraisal",
   "metadata": {},
   "outputs": [],
   "source": [
    "#Task 3.0\n",
    "#take a look what is 25%, 50% and 75% of credit of loan\n",
    "\n",
    "np.percentile(CCLoan['AMT_CREDIT'],[25,50,75])"
   ]
  },
  {
   "cell_type": "code",
   "execution_count": null,
   "id": "respected-superior",
   "metadata": {},
   "outputs": [],
   "source": [
    "#Task 3.1\n",
    "#take a look what is 25%, 50% and 75% of credit of loan\n",
    "\n",
    "np.percentile(CCLoan['AMT_CREDIT'],[25,50,75])"
   ]
  },
  {
   "cell_type": "code",
   "execution_count": null,
   "id": "grateful-chick",
   "metadata": {},
   "outputs": [],
   "source": [
    "#Task 3.2\n",
    "#take a look what is 25%, 50% and 75% of credit of loan\n"
   ]
  },
  {
   "cell_type": "code",
   "execution_count": null,
   "id": "advised-going",
   "metadata": {},
   "outputs": [],
   "source": [
    "CCLoan.replace({'CODE_GENDER':{'XNA':'F'}},inplace = True)"
   ]
  },
  {
   "cell_type": "code",
   "execution_count": null,
   "id": "expected-savage",
   "metadata": {},
   "outputs": [],
   "source": [
    "#View data of if women have more late payment vs men.  There is 2:1 ratio of loan borrower are women\n",
    "#CCLoan_sub = CCLoan[['CLIENTID','LATE_PAYMENT','CODE_GENDER','NAME_CONTRACT_TYPE','AMT_ANNUITY','AMT_CREDIT','AMT_INCOME_TOTAL']]\n",
    "M_CCLoan = CCLoan[CCLoan['CODE_GENDER']=='M']\n",
    "F_CCLoan = CCLoan[CCLoan['CODE_GENDER']=='F']"
   ]
  },
  {
   "cell_type": "code",
   "execution_count": null,
   "id": "indian-representation",
   "metadata": {},
   "outputs": [],
   "source": [
    "#M_CCLoan total male with loan is 105059\n",
    "#LatePayment of men.  the rough percentage is 10% late from men\n",
    "men=M_CCLoan[M_CCLoan['LATE_PAYMENT']==1]\n",
    "men['LATE_PAYMENT'].count()"
   ]
  },
  {
   "cell_type": "code",
   "execution_count": null,
   "id": "nutritional-chess",
   "metadata": {},
   "outputs": [],
   "source": [
    "#F_CCLoan total of femal with loan is 202452 \n",
    "#LatePayment of female 14170. the rough percentage is women only late by 7% of time\n",
    "female=F_CCLoan[F_CCLoan['LATE_PAYMENT']==1]\n",
    "female['LATE_PAYMENT'].count()\n",
    "\n"
   ]
  },
  {
   "cell_type": "code",
   "execution_count": null,
   "id": "supported-specific",
   "metadata": {},
   "outputs": [],
   "source": [
    "#Task 5\n",
    "#test data to see correlation mapping\n",
    "#Heat map with columns that are floats or int.  It will not work with str.\n",
    "#adjust the scale so i can see anything that has correation greater than 0.  \n",
    "#Previous chart with -1 to 1 was difficult to distinguest correlation\n",
    "\n",
    "CCLoan_corr=CCLoan.corr()\n",
    "fig,ax  =plt.subplots(figsize = (10,10))\n",
    "sns.heatmap(CCLoan_corr, linewidth=.5,ax=ax, vmin=0,vmax=1)"
   ]
  },
  {
   "cell_type": "code",
   "execution_count": null,
   "id": "significant-prairie",
   "metadata": {},
   "outputs": [],
   "source": [
    "#Task 5\n",
    "#test data to see correlation mapping\n",
    "#Heat map with columns that are floats or int.  It will not work with str.\n",
    "#adjust the scale so i can see anything that has correation greater than 0.  \n",
    "#Previous chart with -1 to 1 was difficult to distinguest correlation\n",
    "\n",
    "CCLoan_corr=CCLoan.corr()\n",
    "fig,ax  =plt.subplots(figsize = (10,10))\n",
    "sns.heatmap(CCLoan_corr, linewidth=.5,ax=ax, vmin=-1,vmax=0)"
   ]
  },
  {
   "cell_type": "code",
   "execution_count": null,
   "id": "frank-specific",
   "metadata": {},
   "outputs": [],
   "source": [
    "df = CCLoan[['AMT_GOODS_PRICE','AMT_CREDIT','CODE_GENDER']]\n",
    "ax.grid=True\n",
    "ax=df.plot.scatter(x='AMT_GOODS_PRICE',y='AMT_CREDIT',s =3,cmap='coolwarm')\n",
    "plt.ylabel('Yearly Payment')\n",
    "plt.xlabel('Total Credit')\n",
    "\n"
   ]
  },
  {
   "cell_type": "code",
   "execution_count": null,
   "id": "tutorial-cosmetic",
   "metadata": {},
   "outputs": [],
   "source": [
    "\n",
    "_=CCLoan.groupby('LATE_PAYMENT')['NAME_EDUCATION_TYPE'].hist(bins =5)\n",
    "_=plt.xlabel('NAME_EDUCATION_TYPE')\n",
    "_=plt.ylabel('LATE_PAYMENT')\n",
    "_=plt.title(\"Late Payment vs NAME_EDUCATION_TYPE\")\n",
    "\n",
    "plt.show()"
   ]
  },
  {
   "cell_type": "code",
   "execution_count": null,
   "id": "unlimited-population",
   "metadata": {},
   "outputs": [],
   "source": [
    "CCLoan_new=CCLoan.groupby('LATE_PAYMENT')['NAME_EDUCATION_TYPE'].value_counts().unstack(0)\n",
    "CCLoan_new/CCLoan_new.sum()"
   ]
  },
  {
   "cell_type": "code",
   "execution_count": null,
   "id": "pharmaceutical-renewal",
   "metadata": {},
   "outputs": [],
   "source": [
    "df3_5 = CCLoan[['AMT_CREDIT','AMT_ANNUITY','AMT_GOODS_PRICE','CODE_GENDER']]\n",
    "sns.pairplot(df3_5, hue='CODE_GENDER')\n"
   ]
  },
  {
   "cell_type": "code",
   "execution_count": null,
   "id": "mysterious-perception",
   "metadata": {
    "scrolled": true
   },
   "outputs": [],
   "source": [
    "df3 = CCLoan[['AMT_CREDIT','AMT_ANNUITY','AMT_GOODS_PRICE','LATE_PAYMENT']]\n",
    "sns.pairplot(df3)\n"
   ]
  },
  {
   "cell_type": "code",
   "execution_count": null,
   "id": "important-wildlife",
   "metadata": {},
   "outputs": [],
   "source": [
    "df4 = CCLoan[['NAME_FAMILY_STATUS','FLAG_OWN_CAR','CNT_CHILDREN','DAYS_EMPLOYED','CODE_GENDER']]\n",
    "sns.pairplot(df4, hue='CODE_GENDER')"
   ]
  },
  {
   "cell_type": "code",
   "execution_count": null,
   "id": "stable-utility",
   "metadata": {},
   "outputs": [],
   "source": [
    "df5 = CCLoan[['LATE_PAYMENT','NAME_CONTRACT_TYPE','NAME_FAMILY_STATUS','FLAG_OWN_CAR','CNT_CHILDREN','NAME_INCOME_TYPE','DAYS_EMPLOYED','CODE_GENDER']]\n",
    "sns.pairplot(df5, hue='CODE_GENDER')\n"
   ]
  },
  {
   "cell_type": "code",
   "execution_count": null,
   "id": "previous-parliament",
   "metadata": {},
   "outputs": [],
   "source": []
  },
  {
   "cell_type": "markdown",
   "id": "following-pregnancy",
   "metadata": {},
   "source": [
    "#Task 10\n",
    "it just runs and didnt graphy\n",
    "#test graph swarm plot\n",
    "sns.swarmplot(y='LATE_PAYMENT', x ='NAME_CONTRACT_TYPE', data=CCLoan)\n",
    "plt.xlabel('Type of Loan')\n",
    "plt.ylabel('Late Payment')\n",
    "plt.show()"
   ]
  },
  {
   "cell_type": "code",
   "execution_count": null,
   "id": "reasonable-singer",
   "metadata": {},
   "outputs": [],
   "source": []
  }
 ],
 "metadata": {
  "kernelspec": {
   "display_name": "Python 3",
   "language": "python",
   "name": "python3"
  },
  "language_info": {
   "codemirror_mode": {
    "name": "ipython",
    "version": 3
   },
   "file_extension": ".py",
   "mimetype": "text/x-python",
   "name": "python",
   "nbconvert_exporter": "python",
   "pygments_lexer": "ipython3",
   "version": "3.8.5"
  }
 },
 "nbformat": 4,
 "nbformat_minor": 5
}
